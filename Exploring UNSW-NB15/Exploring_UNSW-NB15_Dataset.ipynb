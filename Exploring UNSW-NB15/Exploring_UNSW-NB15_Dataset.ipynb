{
 "cells": [
  {
   "cell_type": "markdown",
   "metadata": {},
   "source": [
    "# Exploring the CIC_IDS_2018 Dataset\n",
    "\n",
    "**Official dataset link:** [CIC_IDS_2018](https://www.unb.ca/cic/datasets/ids-2018.html)\n",
    "\n",
    "In this Jupyter Notebook, we will explore the datetime features of the CIC_IDS_2018 dataset.\n",
    "\n",
    "\n",
    "Let's dive into our analysis of the datetime features in the CIC_IDS_2018 dataset!\n",
    "\n"
   ]
  },
  {
   "cell_type": "code",
   "execution_count": null,
   "metadata": {},
   "outputs": [],
   "source": [
    "import os\n",
    "import pandas as pd\n",
    "from datetime import datetime\n",
    "\n",
    "DATA_PATH = '/users/mik2002/UNSW-NB15-dataset/CSV_Files/Training and Testing Sets'\n",
    "\n",
    "def list_files_in_directory(directory):\n",
    "    # Get the list of files in the specified directory\n",
    "    files_list = os.listdir(directory)\n",
    "    \n",
    "    for file_name in files_list:\n",
    "        print(file_name)\n",
    "\n",
    "list_files_in_directory(DATA_PATH)"
   ]
  },
  {
   "cell_type": "code",
   "execution_count": null,
   "metadata": {},
   "outputs": [],
   "source": [
    "df_training = pd.read_csv(DATA_PATH+\"UNSW_NB15_training-set.csv\")\n",
    "df_testing = pd.read_csv(DATA_PATH+\"UNSW_NB15_testing-set.csv\")"
   ]
  },
  {
   "cell_type": "markdown",
   "metadata": {},
   "source": [
    "# 8- Wednesday-28-02-2018 (Infilteration)\n"
   ]
  },
  {
   "cell_type": "code",
   "execution_count": null,
   "metadata": {},
   "outputs": [],
   "source": [
    "import pandas as pd\n",
    "\n",
    "df_wednesday3 = pd.read_csv(\"/users/mik2002/aws-dataset/Wednesday-28-02-2018_TrafficForML_CICFlowMeter.csv\")\n",
    "df_wednesday3"
   ]
  },
  {
   "cell_type": "code",
   "execution_count": null,
   "metadata": {},
   "outputs": [],
   "source": [
    "df_wednesday3[\"Label\"].value_counts()"
   ]
  },
  {
   "cell_type": "markdown",
   "metadata": {},
   "source": [
    "# 9- Thursday-01-03-2018 (Infilteration)"
   ]
  },
  {
   "cell_type": "code",
   "execution_count": null,
   "metadata": {},
   "outputs": [],
   "source": [
    "import pandas as pd\n",
    "\n",
    "df_thursday4 = pd.read_csv(\"/users/mik2002/aws-dataset/Thursday-01-03-2018_TrafficForML_CICFlowMeter.csv\")\n",
    "df_thursday4"
   ]
  },
  {
   "cell_type": "code",
   "execution_count": null,
   "metadata": {},
   "outputs": [],
   "source": [
    "df_thursday4[\"Label\"].value_counts()"
   ]
  },
  {
   "cell_type": "markdown",
   "metadata": {},
   "source": [
    "# 10- Friday-02-03-2018 (Bot)"
   ]
  },
  {
   "cell_type": "code",
   "execution_count": null,
   "metadata": {},
   "outputs": [],
   "source": [
    "import pandas as pd\n",
    "\n",
    "df_friday3 = pd.read_csv(\"/users/mik2002/aws-dataset/Friday-02-03-2018_TrafficForML_CICFlowMeter.csv\")\n",
    "df_friday3"
   ]
  },
  {
   "cell_type": "code",
   "execution_count": null,
   "metadata": {},
   "outputs": [],
   "source": [
    "df_friday3[\"Label\"].value_counts()"
   ]
  },
  {
   "cell_type": "markdown",
   "metadata": {},
   "source": [
    "# ALL DATASET"
   ]
  },
  {
   "cell_type": "code",
   "execution_count": null,
   "metadata": {},
   "outputs": [],
   "source": [
    "df_dataset = pd.concat([df_wednesday1,\n",
    "                        df_thursday1,\n",
    "                        df_friday1,\n",
    "                        df_thursday2,\n",
    "                        df_wednesday2,\n",
    "                        df_thursday3,\n",
    "                        df_friday2,\n",
    "                        df_wednesday3,\n",
    "                        df_thursday4,\n",
    "                        df_friday3], axis=0, ignore_index=True)\n",
    "df_dataset"
   ]
  },
  {
   "cell_type": "code",
   "execution_count": null,
   "metadata": {},
   "outputs": [],
   "source": [
    "df_dataset[\"Label\"].value_counts()"
   ]
  }
 ],
 "metadata": {
  "kernelspec": {
   "display_name": "Python 3",
   "language": "python",
   "name": "python3"
  },
  "language_info": {
   "codemirror_mode": {
    "name": "ipython",
    "version": 3
   },
   "file_extension": ".py",
   "mimetype": "text/x-python",
   "name": "python",
   "nbconvert_exporter": "python",
   "pygments_lexer": "ipython3",
   "version": "3.10.12"
  }
 },
 "nbformat": 4,
 "nbformat_minor": 2
}
