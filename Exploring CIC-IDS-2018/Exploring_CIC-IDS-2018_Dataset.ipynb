{
 "cells": [
  {
   "cell_type": "markdown",
   "metadata": {},
   "source": [
    "# Exploring the CIC_IDS_2018 Dataset\n",
    "\n",
    "**Official dataset link:** [CIC_IDS_2018](https://www.unb.ca/cic/datasets/ids-2018.html)\n",
    "\n",
    "In this Jupyter Notebook, we will explore the datetime features of the CIC_IDS_2018 dataset.\n",
    "\n",
    "\n",
    "Let's dive into our analysis of the datetime features in the CIC_IDS_2018 dataset!\n",
    "\n"
   ]
  },
  {
   "cell_type": "code",
   "execution_count": null,
   "metadata": {},
   "outputs": [],
   "source": [
    "import os\n",
    "from datetime import datetime\n",
    "\n",
    "def list_files_in_directory(directory):\n",
    "    # Get the list of files in the specified directory\n",
    "    files_list = os.listdir(directory)\n",
    "\n",
    "    # Show the number of files into dataset\n",
    "    num_files = len(files_list)\n",
    "\n",
    "    # Define a function to extract the date from the file name\n",
    "    def extract_date(file_name):\n",
    "        return datetime.strptime(file_name.split(\"_\")[0], \"%A-%d-%m-%Y\")\n",
    "    \n",
    "    # Sort files by date\n",
    "    sorted_files = sorted(files_list, key=extract_date)\n",
    "    \n",
    "    \n",
    "    print(f\"Number Of Files In The CIC_IDS_2018 Dataset Folder: {num_files}\")\n",
    "    # Print the name of each file in the list\n",
    "    for file_name in sorted_files:\n",
    "        print(file_name)\n",
    "\n",
    "folder_path = '/users/mik2002/aws-dataset'\n",
    "\n",
    "list_files_in_directory(folder_path)"
   ]
  },
  {
   "cell_type": "markdown",
   "metadata": {},
   "source": [
    "# 1- Wednesday-14-02-2018 (BruteForce)"
   ]
  },
  {
   "cell_type": "code",
   "execution_count": null,
   "metadata": {},
   "outputs": [],
   "source": [
    "import pandas as pd\n",
    "\n",
    "df_wednesday1 = pd.read_csv(\"/users/mik2002/aws-dataset/Wednesday-14-02-2018_TrafficForML_CICFlowMeter.csv\")\n",
    "df_wednesday1"
   ]
  },
  {
   "cell_type": "code",
   "execution_count": null,
   "metadata": {},
   "outputs": [],
   "source": [
    "df_wednesday1[\"Label\"].value_counts()"
   ]
  },
  {
   "cell_type": "markdown",
   "metadata": {},
   "source": [
    "# 2- Thursday-15-02-2018 (DOS)"
   ]
  },
  {
   "cell_type": "code",
   "execution_count": null,
   "metadata": {},
   "outputs": [],
   "source": [
    "import pandas as pd\n",
    "\n",
    "df_thursday1 = pd.read_csv(\"/users/mik2002/aws-dataset/Thursday-15-02-2018_TrafficForML_CICFlowMeter.csv\")\n",
    "df_thursday1"
   ]
  },
  {
   "cell_type": "code",
   "execution_count": null,
   "metadata": {},
   "outputs": [],
   "source": [
    "df_thursday1[\"Label\"].value_counts()"
   ]
  },
  {
   "cell_type": "markdown",
   "metadata": {},
   "source": [
    "# 3- Friday-16-02-2018 (DOS)"
   ]
  },
  {
   "cell_type": "code",
   "execution_count": null,
   "metadata": {},
   "outputs": [],
   "source": [
    "import pandas as pd\n",
    "\n",
    "df_friday1 = pd.read_csv(\"/users/mik2002/aws-dataset/Friday-16-02-2018_TrafficForML_CICFlowMeter.csv\")\n",
    "df_friday1"
   ]
  },
  {
   "cell_type": "code",
   "execution_count": null,
   "metadata": {},
   "outputs": [],
   "source": [
    "df_friday1[\"Label\"].value_counts()"
   ]
  },
  {
   "cell_type": "markdown",
   "metadata": {},
   "source": [
    "# 4- Thursday-20-02-2018 (DDOS)"
   ]
  },
  {
   "cell_type": "code",
   "execution_count": null,
   "metadata": {},
   "outputs": [],
   "source": [
    "import pandas as pd\n",
    "\n",
    "df_thursday2 = pd.read_csv(\"/users/mik2002/aws-dataset/Thursday-20-02-2018_TrafficForML_CICFlowMeter.csv\")\n",
    "df_thursday2"
   ]
  },
  {
   "cell_type": "code",
   "execution_count": null,
   "metadata": {},
   "outputs": [],
   "source": [
    "df_thursday2[\"Label\"].value_counts()"
   ]
  },
  {
   "cell_type": "markdown",
   "metadata": {},
   "source": [
    "# 5- Wednesday-21-02-2018 (DDOS)"
   ]
  },
  {
   "cell_type": "code",
   "execution_count": null,
   "metadata": {},
   "outputs": [],
   "source": [
    "import pandas as pd\n",
    "\n",
    "df_wednesday2 = pd.read_csv(\"/users/mik2002/aws-dataset/Wednesday-21-02-2018_TrafficForML_CICFlowMeter.csv\")\n",
    "df_wednesday2"
   ]
  },
  {
   "cell_type": "code",
   "execution_count": null,
   "metadata": {},
   "outputs": [],
   "source": [
    "df_wednesday2[\"Label\"].value_counts()"
   ]
  },
  {
   "cell_type": "markdown",
   "metadata": {},
   "source": [
    "# 6- Thursday-22-02-2018 (Brute Force & SQL Injection)"
   ]
  },
  {
   "cell_type": "code",
   "execution_count": null,
   "metadata": {},
   "outputs": [],
   "source": [
    "import pandas as pd\n",
    "\n",
    "df_thursday3 = pd.read_csv(\"/users/mik2002/aws-dataset/Thursday-22-02-2018_TrafficForML_CICFlowMeter.csv\")\n",
    "df_thursday3"
   ]
  },
  {
   "cell_type": "code",
   "execution_count": null,
   "metadata": {},
   "outputs": [],
   "source": [
    "df_thursday3[\"Label\"].value_counts()"
   ]
  },
  {
   "cell_type": "markdown",
   "metadata": {},
   "source": [
    "# 7- Friday-23-02-2018 (Brute Force & SQL Injection)"
   ]
  },
  {
   "cell_type": "code",
   "execution_count": null,
   "metadata": {},
   "outputs": [],
   "source": [
    "import pandas as pd\n",
    "\n",
    "df_friday2 = pd.read_csv(\"/users/mik2002/aws-dataset/Friday-23-02-2018_TrafficForML_CICFlowMeter.csv\")\n",
    "df_friday2"
   ]
  },
  {
   "cell_type": "code",
   "execution_count": null,
   "metadata": {},
   "outputs": [],
   "source": [
    "df_friday2[\"Label\"].value_counts()"
   ]
  },
  {
   "cell_type": "markdown",
   "metadata": {},
   "source": [
    "# 8- Wednesday-28-02-2018 (Infilteration)\n"
   ]
  },
  {
   "cell_type": "code",
   "execution_count": null,
   "metadata": {},
   "outputs": [],
   "source": [
    "import pandas as pd\n",
    "\n",
    "df_wednesday3 = pd.read_csv(\"/users/mik2002/aws-dataset/Wednesday-28-02-2018_TrafficForML_CICFlowMeter.csv\")\n",
    "df_wednesday3"
   ]
  },
  {
   "cell_type": "code",
   "execution_count": null,
   "metadata": {},
   "outputs": [],
   "source": [
    "df_wednesday3[\"Label\"].value_counts()"
   ]
  },
  {
   "cell_type": "markdown",
   "metadata": {},
   "source": [
    "# 9- Thursday-01-03-2018 (Infilteration)"
   ]
  },
  {
   "cell_type": "code",
   "execution_count": null,
   "metadata": {},
   "outputs": [],
   "source": [
    "import pandas as pd\n",
    "\n",
    "df_thursday4 = pd.read_csv(\"/users/mik2002/aws-dataset/Thursday-01-03-2018_TrafficForML_CICFlowMeter.csv\")\n",
    "df_thursday4"
   ]
  },
  {
   "cell_type": "code",
   "execution_count": null,
   "metadata": {},
   "outputs": [],
   "source": [
    "df_thursday4[\"Label\"].value_counts()"
   ]
  },
  {
   "cell_type": "markdown",
   "metadata": {},
   "source": [
    "# 10- Friday-02-03-2018 (Bot)"
   ]
  },
  {
   "cell_type": "code",
   "execution_count": null,
   "metadata": {},
   "outputs": [],
   "source": [
    "import pandas as pd\n",
    "\n",
    "df_friday3 = pd.read_csv(\"/users/mik2002/aws-dataset/Friday-02-03-2018_TrafficForML_CICFlowMeter.csv\")\n",
    "df_friday3"
   ]
  },
  {
   "cell_type": "code",
   "execution_count": null,
   "metadata": {},
   "outputs": [],
   "source": [
    "df_friday3[\"Label\"].value_counts()"
   ]
  },
  {
   "cell_type": "markdown",
   "metadata": {},
   "source": [
    "# ALL DATASET"
   ]
  },
  {
   "cell_type": "code",
   "execution_count": null,
   "metadata": {},
   "outputs": [],
   "source": [
    "df_dataset = pd.concat([df_wednesday1,\n",
    "                        df_thursday1,\n",
    "                        df_friday1,\n",
    "                        df_thursday2,\n",
    "                        df_wednesday2,\n",
    "                        df_thursday3,\n",
    "                        df_friday2,\n",
    "                        df_wednesday3,\n",
    "                        df_thursday4,\n",
    "                        df_friday3], axis=0, ignore_index=True)\n",
    "df_dataset"
   ]
  },
  {
   "cell_type": "code",
   "execution_count": null,
   "metadata": {},
   "outputs": [],
   "source": [
    "df_dataset[\"Label\"].value_counts()"
   ]
  }
 ],
 "metadata": {
  "kernelspec": {
   "display_name": "Python 3",
   "language": "python",
   "name": "python3"
  },
  "language_info": {
   "codemirror_mode": {
    "name": "ipython",
    "version": 3
   },
   "file_extension": ".py",
   "mimetype": "text/x-python",
   "name": "python",
   "nbconvert_exporter": "python",
   "pygments_lexer": "ipython3",
   "version": "3.10.12"
  }
 },
 "nbformat": 4,
 "nbformat_minor": 2
}
