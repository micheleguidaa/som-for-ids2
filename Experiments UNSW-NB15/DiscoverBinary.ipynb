{
 "cells": [
  {
   "cell_type": "code",
   "execution_count": 1,
   "metadata": {},
   "outputs": [],
   "source": [
    "import pandas as pd\n",
    "from sklearn.model_selection import KFold\n",
    "from sklearn.preprocessing import MinMaxScaler\n",
    "from sklearn.metrics import classification_report\n",
    "from minisom import MiniSom\n",
    "import numpy as np\n",
    "import time\n",
    "import matplotlib.pyplot as plt\n",
    "import seaborn as sns\n",
    "from joblib import Parallel, delayed\n",
    "import psutil\n",
    "import warnings\n",
    "import tracemalloc\n"
   ]
  },
  {
   "cell_type": "code",
   "execution_count": 2,
   "metadata": {},
   "outputs": [],
   "source": [
    "# Inizializzazione del dataset e dei parametri\n",
    "DATA_PATH = \"/users/mik2002/som/dataset-processed UNSW-NB15/\"\n",
    "FILES_Train = [\"training_processed.csv\"]\n",
    "FILES_Test = [\"testing_processed.csv\"]\n",
    "df_train = pd.concat([pd.read_csv(DATA_PATH + file) for file in FILES_Train], ignore_index=True)\n",
    "df_test = pd.concat([pd.read_csv(DATA_PATH + file) for file in FILES_Test], ignore_index=True)\n"
   ]
  },
  {
   "cell_type": "code",
   "execution_count": 3,
   "metadata": {},
   "outputs": [
    {
     "name": "stdout",
     "output_type": "stream",
     "text": [
      "Columns in df_train: Index(['dur', 'spkts', 'dpkts', 'sbytes', 'dbytes', 'rate', 'sttl', 'dttl',\n",
      "       'sload', 'dload', 'sloss', 'dloss', 'sinpkt', 'dinpkt', 'sjit', 'djit',\n",
      "       'swin', 'stcpb', 'dtcpb', 'dwin', 'tcprtt', 'ct_src_ltm', 'ct_srv_dst',\n",
      "       'proto_tcp', 'proto_udp', 'proto_unas', 'proto_arp', 'proto_ospf',\n",
      "       'proto_sctp', 'proto_others', 'service_http', 'service_irc',\n",
      "       'service_pop3', 'service_radius', 'service_smtp', 'service_snmp',\n",
      "       'service_ssh', 'service_ssl', 'service_others', 'state_ACC',\n",
      "       'state_CLO', 'state_CON', 'state_ECO', 'state_FIN', 'state_INT',\n",
      "       'state_PAR', 'state_REQ', 'state_RST', 'state_URN', 'state_-',\n",
      "       'state_others', 'label'],\n",
      "      dtype='object')\n",
      "Columns in df_test: Index(['dur', 'spkts', 'dpkts', 'sbytes', 'dbytes', 'rate', 'sttl', 'dttl',\n",
      "       'sload', 'dload', 'sloss', 'dloss', 'sinpkt', 'dinpkt', 'sjit', 'djit',\n",
      "       'swin', 'stcpb', 'dtcpb', 'dwin', 'tcprtt', 'ct_src_ltm', 'ct_srv_dst',\n",
      "       'proto_tcp', 'proto_udp', 'proto_unas', 'proto_arp', 'proto_ospf',\n",
      "       'proto_sctp', 'proto_others', 'service_http', 'service_irc',\n",
      "       'service_pop3', 'service_radius', 'service_smtp', 'service_snmp',\n",
      "       'service_ssh', 'service_ssl', 'service_others', 'state_ACC',\n",
      "       'state_CLO', 'state_CON', 'state_ECO', 'state_FIN', 'state_INT',\n",
      "       'state_PAR', 'state_REQ', 'state_RST', 'state_URN', 'state_-',\n",
      "       'state_others', 'label'],\n",
      "      dtype='object')\n",
      "Training set has 175341 samples.\n",
      "Testing set has 82332 samples.\n"
     ]
    }
   ],
   "source": [
    "# Droppare la colonna 'attack_cat'\n",
    "df_train = df_train.drop(columns=['attack_cat'])\n",
    "df_test = df_test.drop(columns=['attack_cat'])\n",
    "\n",
    "# Verifica delle colonne\n",
    "print(\"Columns in df_train:\", df_train.columns)\n",
    "print(\"Columns in df_test:\", df_test.columns)\n",
    "\n",
    "# split dataset in data and target \n",
    "target_train = df_train['label'].values\n",
    "data_train = df_train.drop(columns=['label'])\n",
    "\n",
    "# split dataset in data and target \n",
    "target_test = df_test['label'].values\n",
    "data_test = df_test.drop(columns=['label'])\n",
    "\n",
    "print(\"Training set has {} samples.\".format(data_train.shape[0]))\n",
    "print(\"Testing set has {} samples.\".format(data_test.shape[0]))\n"
   ]
  },
  {
   "cell_type": "code",
   "execution_count": 4,
   "metadata": {},
   "outputs": [],
   "source": [
    "\n",
    "# since this is supervised classification not unsupervised, this function chooses the class of\n",
    "# the BMU to be the final class of each instance\n",
    "def classify(som, data):\n",
    "    \"\"\"Classifies each sample in data in one of the classes defined\n",
    "    using the method labels_map.\n",
    "    Returns a list of the same length of data where the i-th element\n",
    "    is the class assigned to data[i].\n",
    "    \"\"\"\n",
    "    winmap = som.labels_map(data_train.values, target_train)\n",
    "    default_class = np.sum(list(winmap.values())).most_common()[0][0]\n",
    "    result = []\n",
    "    for d in data:\n",
    "        win_position = som.winner(d)\n",
    "        if win_position in winmap:\n",
    "            result.append(winmap[win_position].most_common()[0][0])\n",
    "        else:\n",
    "            result.append(default_class)\n",
    "    return result\n"
   ]
  },
  {
   "cell_type": "code",
   "execution_count": 5,
   "metadata": {},
   "outputs": [],
   "source": [
    "\n",
    "# set hyperparameters\n",
    "n_neurons = 20\n",
    "m_neurons = 20\n",
    "input_len = data_train.shape[1]\n",
    "sigma = 1.5\n",
    "learning_rate = 1.2\n",
    "iterations = 10000\n"
   ]
  },
  {
   "cell_type": "code",
   "execution_count": 6,
   "metadata": {},
   "outputs": [],
   "source": [
    "\n",
    "# initialization\n",
    "som = MiniSom(x=n_neurons, y=m_neurons, input_len=input_len, sigma=sigma, learning_rate=learning_rate)\n",
    "som.random_weights_init(data_train.values)\n"
   ]
  },
  {
   "cell_type": "code",
   "execution_count": 7,
   "metadata": {},
   "outputs": [
    {
     "name": "stdout",
     "output_type": "stream",
     "text": [
      " [    729 / 175341 ]   0% - 0:00:48 left "
     ]
    },
    {
     "name": "stdout",
     "output_type": "stream",
     "text": [
      " [ 175341 / 175341 ] 100% - 0:00:00 left \n",
      " quantization error: 3.4581509201099974\n"
     ]
    }
   ],
   "source": [
    "\n",
    "# Train the SOM\n",
    "som.train(data_train.values, 1, verbose=True, use_epochs=True)  # Ensure to pass numpy array\n"
   ]
  },
  {
   "cell_type": "code",
   "execution_count": 8,
   "metadata": {},
   "outputs": [
    {
     "name": "stdout",
     "output_type": "stream",
     "text": [
      "              precision    recall  f1-score   support\n",
      "\n",
      "           0     0.7515    0.5068    0.6053     37000\n",
      "           1     0.6820    0.8632    0.7619     45332\n",
      "\n",
      "    accuracy                         0.7030     82332\n",
      "   macro avg     0.7167    0.6850    0.6836     82332\n",
      "weighted avg     0.7132    0.7030    0.6916     82332\n",
      "\n"
     ]
    }
   ],
   "source": [
    "# Classification\n",
    "y_pred = classify(som, data_test.values)\n",
    "\n",
    "# Report\n",
    "report = classification_report(target_test, y_pred, digits=4)\n",
    "print(report)\n"
   ]
  },
  {
   "cell_type": "code",
   "execution_count": 9,
   "metadata": {},
   "outputs": [
    {
     "ename": "KeyboardInterrupt",
     "evalue": "",
     "output_type": "error",
     "traceback": [
      "\u001b[0;31m---------------------------------------------------------------------------\u001b[0m",
      "\u001b[0;31mKeyboardInterrupt\u001b[0m                         Traceback (most recent call last)",
      "Cell \u001b[0;32mIn[9], line 12\u001b[0m\n\u001b[1;32m      9\u001b[0m colors \u001b[38;5;241m=\u001b[39m [\u001b[38;5;124m'\u001b[39m\u001b[38;5;124mg\u001b[39m\u001b[38;5;124m'\u001b[39m, \u001b[38;5;124m'\u001b[39m\u001b[38;5;124mr\u001b[39m\u001b[38;5;124m'\u001b[39m]\n\u001b[1;32m     11\u001b[0m \u001b[38;5;28;01mfor\u001b[39;00m cnt, xx \u001b[38;5;129;01min\u001b[39;00m \u001b[38;5;28menumerate\u001b[39m(data_test\u001b[38;5;241m.\u001b[39mvalues):  \u001b[38;5;66;03m# Use data_test.values here\u001b[39;00m\n\u001b[0;32m---> 12\u001b[0m     w \u001b[38;5;241m=\u001b[39m \u001b[43msom\u001b[49m\u001b[38;5;241;43m.\u001b[39;49m\u001b[43mwinner\u001b[49m\u001b[43m(\u001b[49m\u001b[43mxx\u001b[49m\u001b[43m)\u001b[49m  \u001b[38;5;66;03m# getting the winner\u001b[39;00m\n\u001b[1;32m     13\u001b[0m     \u001b[38;5;66;03m# place a marker on the winning position for the sample xx\u001b[39;00m\n\u001b[1;32m     14\u001b[0m     plt\u001b[38;5;241m.\u001b[39mplot(w[\u001b[38;5;241m0\u001b[39m] \u001b[38;5;241m+\u001b[39m \u001b[38;5;241m.5\u001b[39m, w[\u001b[38;5;241m1\u001b[39m] \u001b[38;5;241m+\u001b[39m \u001b[38;5;241m.5\u001b[39m, markers[target_test[cnt]], markerfacecolor\u001b[38;5;241m=\u001b[39mcolors[target_test[cnt]],\n\u001b[1;32m     15\u001b[0m              markeredgecolor\u001b[38;5;241m=\u001b[39mcolors[target_test[cnt]], markersize\u001b[38;5;241m=\u001b[39m\u001b[38;5;241m1\u001b[39m, markeredgewidth\u001b[38;5;241m=\u001b[39m\u001b[38;5;241m2\u001b[39m)\n",
      "File \u001b[0;32m~/.local/lib/python3.10/site-packages/minisom.py:319\u001b[0m, in \u001b[0;36mMiniSom.winner\u001b[0;34m(self, x)\u001b[0m\n\u001b[1;32m    317\u001b[0m \u001b[38;5;28;01mdef\u001b[39;00m \u001b[38;5;21mwinner\u001b[39m(\u001b[38;5;28mself\u001b[39m, x):\n\u001b[1;32m    318\u001b[0m \u001b[38;5;250m    \u001b[39m\u001b[38;5;124;03m\"\"\"Computes the coordinates of the winning neuron for the sample x.\"\"\"\u001b[39;00m\n\u001b[0;32m--> 319\u001b[0m     \u001b[38;5;28;43mself\u001b[39;49m\u001b[38;5;241;43m.\u001b[39;49m\u001b[43m_activate\u001b[49m\u001b[43m(\u001b[49m\u001b[43mx\u001b[49m\u001b[43m)\u001b[49m\n\u001b[1;32m    320\u001b[0m     \u001b[38;5;28;01mreturn\u001b[39;00m unravel_index(\u001b[38;5;28mself\u001b[39m\u001b[38;5;241m.\u001b[39m_activation_map\u001b[38;5;241m.\u001b[39margmin(),\n\u001b[1;32m    321\u001b[0m                          \u001b[38;5;28mself\u001b[39m\u001b[38;5;241m.\u001b[39m_activation_map\u001b[38;5;241m.\u001b[39mshape)\n",
      "File \u001b[0;32m~/.local/lib/python3.10/site-packages/minisom.py:253\u001b[0m, in \u001b[0;36mMiniSom._activate\u001b[0;34m(self, x)\u001b[0m\n\u001b[1;32m    250\u001b[0m \u001b[38;5;28;01mdef\u001b[39;00m \u001b[38;5;21m_activate\u001b[39m(\u001b[38;5;28mself\u001b[39m, x):\n\u001b[1;32m    251\u001b[0m \u001b[38;5;250m    \u001b[39m\u001b[38;5;124;03m\"\"\"Updates matrix activation_map, in this matrix\u001b[39;00m\n\u001b[1;32m    252\u001b[0m \u001b[38;5;124;03m       the element i,j is the response of the neuron i,j to x.\"\"\"\u001b[39;00m\n\u001b[0;32m--> 253\u001b[0m     \u001b[38;5;28mself\u001b[39m\u001b[38;5;241m.\u001b[39m_activation_map \u001b[38;5;241m=\u001b[39m \u001b[38;5;28;43mself\u001b[39;49m\u001b[38;5;241;43m.\u001b[39;49m\u001b[43m_activation_distance\u001b[49m\u001b[43m(\u001b[49m\u001b[43mx\u001b[49m\u001b[43m,\u001b[49m\u001b[43m \u001b[49m\u001b[38;5;28;43mself\u001b[39;49m\u001b[38;5;241;43m.\u001b[39;49m\u001b[43m_weights\u001b[49m\u001b[43m)\u001b[49m\n",
      "File \u001b[0;32m~/.local/lib/python3.10/site-packages/minisom.py:297\u001b[0m, in \u001b[0;36mMiniSom._euclidean_distance\u001b[0;34m(self, x, w)\u001b[0m\n\u001b[1;32m    296\u001b[0m \u001b[38;5;28;01mdef\u001b[39;00m \u001b[38;5;21m_euclidean_distance\u001b[39m(\u001b[38;5;28mself\u001b[39m, x, w):\n\u001b[0;32m--> 297\u001b[0m     \u001b[38;5;28;01mreturn\u001b[39;00m linalg\u001b[38;5;241m.\u001b[39mnorm(\u001b[43msubtract\u001b[49m\u001b[43m(\u001b[49m\u001b[43mx\u001b[49m\u001b[43m,\u001b[49m\u001b[43m \u001b[49m\u001b[43mw\u001b[49m\u001b[43m)\u001b[49m, axis\u001b[38;5;241m=\u001b[39m\u001b[38;5;241m-\u001b[39m\u001b[38;5;241m1\u001b[39m)\n",
      "\u001b[0;31mKeyboardInterrupt\u001b[0m: "
     ]
    },
    {
     "data": {
      "image/png": "[encoded data removed]",
      "text/plain": [
       "<Figure size 900x900 with 2 Axes>"
      ]
     },
     "metadata": {},
     "output_type": "display_data"
    }
   ],
   "source": [
    "\n",
    "# Plotting\n",
    "plt.figure(figsize=(9, 9))\n",
    "plt.pcolor(som.distance_map().T, cmap='bone_r')  # plotting the distance map as background\n",
    "plt.colorbar()\n",
    "\n",
    "# Plotting the response for each pattern in the processed dataset\n",
    "# different colors and markers for each label\n",
    "markers = ['o', 's']\n",
    "colors = ['g', 'r']\n",
    "\n",
    "for cnt, xx in enumerate(data_test.values):  # Use data_test.values here\n",
    "    w = som.winner(xx)  # getting the winner\n",
    "    # place a marker on the winning position for the sample xx\n",
    "    plt.plot(w[0] + .5, w[1] + .5, markers[target_test[cnt]], markerfacecolor=colors[target_test[cnt]],\n",
    "             markeredgecolor=colors[target_test[cnt]], markersize=1, markeredgewidth=2)\n",
    "\n",
    "plt.show()\n"
   ]
  }
 ],
 "metadata": {
  "kernelspec": {
   "display_name": "Python 3",
   "language": "python",
   "name": "python3"
  },
  "language_info": {
   "codemirror_mode": {
    "name": "ipython",
    "version": 3
   },
   "file_extension": ".py",
   "mimetype": "text/x-python",
   "name": "python",
   "nbconvert_exporter": "python",
   "pygments_lexer": "ipython3",
   "version": "3.10.12"
  }
 },
 "nbformat": 4,
 "nbformat_minor": 2
}
