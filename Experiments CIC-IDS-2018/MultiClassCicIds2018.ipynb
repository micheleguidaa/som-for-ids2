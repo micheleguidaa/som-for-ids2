{
 "cells": [
  {
   "cell_type": "code",
   "execution_count": 5,
   "metadata": {},
   "outputs": [],
   "source": [
    "import pandas as pd\n",
    "from sklearn.model_selection import KFold\n",
    "from sklearn.preprocessing import MinMaxScaler\n",
    "from sklearn.metrics import classification_report\n",
    "from minisom import MiniSom\n",
    "import numpy as np\n",
    "import time\n",
    "import matplotlib.pyplot as plt\n",
    "import seaborn as sns\n",
    "from joblib import Parallel, delayed\n",
    "import psutil\n",
    "import warnings\n",
    "import tracemalloc"
   ]
  },
  {
   "cell_type": "code",
   "execution_count": 21,
   "metadata": {},
   "outputs": [
    {
     "data": {
      "text/plain": [
       "Label\n",
       "Benign        10194284\n",
       "DDos            576191\n",
       "Dos             507715\n",
       "Bot             282310\n",
       "Bruteforce      156668\n",
       "Name: count, dtype: int64"
      ]
     },
     "metadata": {},
     "output_type": "display_data"
    },
    {
     "name": "stdout",
     "output_type": "stream",
     "text": [
      "Distribution:\n"
     ]
    },
    {
     "data": {
      "text/plain": [
       "Label\n",
       "Benign        0.870030\n",
       "DDos          0.049175\n",
       "Dos           0.043331\n",
       "Bot           0.024094\n",
       "Bruteforce    0.013371\n",
       "Name: proportion, dtype: float64"
      ]
     },
     "metadata": {},
     "output_type": "display_data"
    }
   ],
   "source": [
    "# Inizializzazione del dataset e dei parametri\n",
    "DATA_PATH = \"/users/mik2002/som/dataset-processed CIC-IDS-2018/\"\n",
    "FILES = [\"processed_bot_dataset.csv\", \"processed_dos_dataset.csv\",\"processed_Ddos_dataset.csv\", \"processed_bruteforce_dataset.csv\"]\n",
    "df_dataset = pd.concat([pd.read_csv(DATA_PATH + file) for file in FILES], ignore_index=True)\n",
    "\n",
    "display(df_dataset[\"Label\"].value_counts())\n",
    "print(\"Distribution:\")\n",
    "display(df_dataset[\"Label\"].value_counts(normalize=True))"
   ]
  },
  {
   "cell_type": "code",
   "execution_count": null,
   "metadata": {},
   "outputs": [],
   "source": [
    "sampled_df = df_dataset.groupby(\"Label\").apply(lambda x: x.sample(frac=0.01, random_state=42))\n",
    "sampled_df[\"Label\"] = sampled_df[\"Label\"].map({\"Benign\": 0, \"Dos\":1,\"DDos\":2 ,\"Bot\":3,\"Bruteforce\":4})"
   ]
  },
  {
   "cell_type": "code",
   "execution_count": 79,
   "metadata": {},
   "outputs": [
    {
     "name": "stderr",
     "output_type": "stream",
     "text": [
      "/tmp/ipykernel_242871/128097869.py:10: DeprecationWarning: DataFrameGroupBy.apply operated on the grouping columns. This behavior is deprecated, and in a future version of pandas the grouping columns will be excluded from the operation. Either pass `include_groups=False` to exclude the groupings or explicitly select the grouping columns after groupby to silence this warning.\n",
      "  other_sampled = df_dataset[df_dataset[\"Label\"] != \"Benign\"].groupby(\"Label\").apply(lambda x: x.sample(frac=0.01, random_state=42))\n"
     ]
    }
   ],
   "source": [
    "import pandas as pd\n",
    "\n",
    "# Supponiamo che il tuo dataframe sia df_dataset\n",
    "# Campionamento specifico per ciascuna classe\n",
    "def custom_sample(df, label, frac, random_state):\n",
    "    return df[df[\"Label\"] == label].sample(frac=frac, random_state=random_state)\n",
    "\n",
    "# Applica il campionamento\n",
    "benign_sampled = custom_sample(df_dataset, \"Benign\", 0.0020, 42)  # 0.25% del totale per \"Benign\"\n",
    "other_sampled = df_dataset[df_dataset[\"Label\"] != \"Benign\"].groupby(\"Label\").apply(lambda x: x.sample(frac=0.01, random_state=42))\n",
    "\n",
    "# Concatenare i due campioni\n",
    "sampled_df = pd.concat([benign_sampled, other_sampled])\n",
    "\n",
    "# Resetta l'indice se necessario\n",
    "sampled_df.reset_index(drop=True, inplace=True)\n",
    "\n",
    "# Mappa le etichette\n",
    "sampled_df[\"Label\"] = sampled_df[\"Label\"].map({\"Benign\": 0, \"Dos\": 1, \"DDos\": 2, \"Bot\": 3, \"Bruteforce\": 4})"
   ]
  },
  {
   "cell_type": "code",
   "execution_count": 80,
   "metadata": {},
   "outputs": [
    {
     "data": {
      "text/plain": [
       "Label\n",
       "0    20389\n",
       "2     5762\n",
       "1     5077\n",
       "3     2823\n",
       "4     1567\n",
       "Name: count, dtype: int64"
      ]
     },
     "execution_count": 80,
     "metadata": {},
     "output_type": "execute_result"
    }
   ],
   "source": [
    "sampled_df[\"Label\"].value_counts()"
   ]
  },
  {
   "cell_type": "code",
   "execution_count": 81,
   "metadata": {},
   "outputs": [],
   "source": [
    "from sklearn.preprocessing import StandardScaler\n",
    "scaler = StandardScaler()\n",
    "data = scaler.fit_transform(sampled_df.iloc[:, :-1])\n",
    "target = sampled_df.iloc[:, -1].values"
   ]
  },
  {
   "cell_type": "code",
   "execution_count": 82,
   "metadata": {},
   "outputs": [
    {
     "name": "stdout",
     "output_type": "stream",
     "text": [
      "Training set has 28494 samples.\n",
      "Testing  set has 7124 samples.\n"
     ]
    }
   ],
   "source": [
    "# split data in Training and Testing set\n",
    "from sklearn.model_selection import train_test_split\n",
    "\n",
    "\n",
    "X_train, X_test, y_train, y_test = train_test_split(data, target,test_size=0.2)\n",
    "print(\"Training set has {} samples.\".format(X_train.shape[0]))\n",
    "print(\"Testing  set has {} samples.\".format(X_test.shape[0]))"
   ]
  },
  {
   "cell_type": "code",
   "execution_count": 72,
   "metadata": {},
   "outputs": [],
   "source": [
    "# set hyperparameters\n",
    "n_neurons = 20\n",
    "m_neurons = 20\n",
    "input_len = X_train.shape[1]\n",
    "sigma = 1.5\n",
    "learning_rate = 1.2\n",
    "iterations = 20000"
   ]
  },
  {
   "cell_type": "code",
   "execution_count": 85,
   "metadata": {},
   "outputs": [],
   "source": [
    "\n",
    "from minisom import MiniSom\n",
    "# initialization\n",
    "som = MiniSom(x=n_neurons, y=m_neurons,input_len=input_len,sigma=sigma,learning_rate=learning_rate)\n",
    "som.random_weights_init(data)\n"
   ]
  },
  {
   "cell_type": "code",
   "execution_count": 22,
   "metadata": {},
   "outputs": [],
   "source": [
    "# since this in supervised classification not unsupervised, this function chooses the class of\n",
    "# the BMU to be the final class of each instance\n",
    "def classify(som, data):\n",
    "    \"\"\"Classifies each sample in data in one of the classes definited\n",
    "    using the method labels_map.\n",
    "    Returns a list of the same length of data where the i-th element\n",
    "    is the class assigned to data[i].\n",
    "    \"\"\"\n",
    "    winmap = som.labels_map(X_train, y_train)\n",
    "    default_class = np.sum(list(winmap.values())).most_common()[0][0]\n",
    "    result = []\n",
    "    for d in data:\n",
    "        win_position = som.winner(d)\n",
    "        if win_position in winmap:\n",
    "            result.append(winmap[win_position].most_common()[0][0])\n",
    "        else:\n",
    "            result.append(default_class)\n",
    "    return result"
   ]
  },
  {
   "cell_type": "code",
   "execution_count": 86,
   "metadata": {},
   "outputs": [
    {
     "name": "stdout",
     "output_type": "stream",
     "text": [
      " [ 20000 / 20000 ] 100% - 0:00:00 left \n",
      " quantization error: 0.5775557724476041\n",
      "CPU times: user 11 s, sys: 4.34 ms, total: 11 s\n",
      "Wall time: 6.19 s\n"
     ]
    }
   ],
   "source": [
    "%%time\n",
    "som.train(X_train, iterations, verbose=True)  # random training"
   ]
  },
  {
   "cell_type": "code",
   "execution_count": null,
   "metadata": {},
   "outputs": [
    {
     "data": {
      "text/plain": [
       "np.float64(0.04028635597978664)"
      ]
     },
     "execution_count": 87,
     "metadata": {},
     "output_type": "execute_result"
    }
   ],
   "source": [
    "som.topographic_error(X_test)\n"
   ]
  },
  {
   "cell_type": "code",
   "execution_count": null,
   "metadata": {},
   "outputs": [
    {
     "name": "stdout",
     "output_type": "stream",
     "text": [
      "              precision    recall  f1-score   support\n",
      "\n",
      "           0     0.9916    0.9899    0.9907    203742\n",
      "           1     0.9834    0.9450    0.9638     10339\n",
      "           2     0.9643    0.9757    0.9700     11417\n",
      "           3     0.7607    0.9291    0.8365      5683\n",
      "           5     0.9226    0.7382    0.8202      3163\n",
      "\n",
      "    accuracy                         0.9823    234344\n",
      "   macro avg     0.9245    0.9156    0.9162    234344\n",
      "weighted avg     0.9834    0.9823    0.9825    234344\n",
      "\n",
      "CPU times: user 1min 51s, sys: 78 ms, total: 1min 51s\n",
      "Wall time: 1min 51s\n"
     ]
    }
   ],
   "source": [
    "%%time\n",
    "y_pred = classify(som, X_test)\n",
    "report = classification_report(y_test, y_pred, digits=4)\n",
    "print(report)"
   ]
  },
  {
   "cell_type": "code",
   "execution_count": 88,
   "metadata": {},
   "outputs": [
    {
     "data": {
      "image/png": "[encoded data removed]",
      "text/plain": [
       "<Figure size 900x900 with 2 Axes>"
      ]
     },
     "metadata": {},
     "output_type": "display_data"
    },
    {
     "name": "stdout",
     "output_type": "stream",
     "text": [
      "CPU times: user 35.9 s, sys: 360 ms, total: 36.3 s\n",
      "Wall time: 36.3 s\n"
     ]
    }
   ],
   "source": [
    "%%time\n",
    "import matplotlib.pyplot as plt\n",
    "%matplotlib inline\n",
    "\n",
    "plt.figure(figsize=(9, 9))\n",
    "\n",
    "# Utilizzo della mappa dei colori 'Greys' per uno sfondo chiaro\n",
    "plt.pcolor(som.distance_map().T, cmap='Greys')  # plotting the distance map as background\n",
    "plt.colorbar()\n",
    "\n",
    "# Plotting the response for each pattern in the processed_friday_dataset\n",
    "# different colors and markers for each label\n",
    "labels = ['Benign', 'DDos', 'Dos', 'Bot', 'Bruteforce']\n",
    "markers = {\n",
    "    'Benign': 'o',        # Circle\n",
    "    'DDos': 's',          # Square\n",
    "    'Dos': 'D',           # Diamond\n",
    "    'Bot': 'v',           # Down triangle\n",
    "    'Bruteforce': '^'     # Up triangle\n",
    "}\n",
    "colors = {\n",
    "    'Benign': 'g',        # Green for benign\n",
    "    'DDos': 'r',          # Red for DDos\n",
    "    'Dos': 'b',           # Blue for Dos\n",
    "    'Bot': 'c',           # Cyan for Bot\n",
    "    'Bruteforce': 'm'     # Magenta for Bruteforce\n",
    "}\n",
    "\n",
    "for cnt, xx in enumerate(data):\n",
    "    w = som.winner(xx)  # getting the winner\n",
    "    label = target[cnt]  # get the label for this data point\n",
    "    # place a marker on the winning position for the sample xx\n",
    "    plt.plot(w[0] + 0.5, w[1] + 0.5, \n",
    "             markers[labels[label]],  # select the marker based on the label\n",
    "             markerfacecolor=colors[labels[label]],  # fill color of the marker\n",
    "             markeredgecolor=colors[labels[label]],  # edge color of the marker\n",
    "             markersize=5,  # size of the marker\n",
    "             markeredgewidth=2)  # width of the edge\n",
    "\n",
    "plt.show()"
   ]
  }
 ],
 "metadata": {
  "kernelspec": {
   "display_name": "Python 3",
   "language": "python",
   "name": "python3"
  },
  "language_info": {
   "codemirror_mode": {
    "name": "ipython",
    "version": 3
   },
   "file_extension": ".py",
   "mimetype": "text/x-python",
   "name": "python",
   "nbconvert_exporter": "python",
   "pygments_lexer": "ipython3",
   "version": "3.10.12"
  }
 },
 "nbformat": 4,
 "nbformat_minor": 2
}
