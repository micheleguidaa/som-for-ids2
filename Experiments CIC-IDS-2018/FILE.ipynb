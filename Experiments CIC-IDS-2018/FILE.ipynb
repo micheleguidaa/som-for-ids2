{
 "cells": [
  {
   "cell_type": "code",
   "execution_count": 3,
   "metadata": {},
   "outputs": [],
   "source": [
    "import pandas as pd\n",
    "from sklearn.model_selection import KFold\n",
    "from sklearn.preprocessing import MinMaxScaler\n",
    "from sklearn.metrics import classification_report\n",
    "from minisom import MiniSom\n",
    "import numpy as np\n",
    "import time\n",
    "import matplotlib.pyplot as plt\n",
    "import seaborn as sns\n",
    "from joblib import Parallel, delayed\n",
    "import psutil\n",
    "import warnings\n",
    "import tracemalloc"
   ]
  },
  {
   "cell_type": "code",
   "execution_count": 4,
   "metadata": {},
   "outputs": [
    {
     "name": "stderr",
     "output_type": "stream",
     "text": [
      "/tmp/ipykernel_212057/3926419878.py:4: DtypeWarning: Columns (0,1,2,3,4,5,6,7,8,9,10,11,12,13,14,15,16,17,18,19,20,21,22,23,24,25,26,27,28,29,30,31,32,33,34,35,36,37,38,39,40,41,42,43,44,45,46,47,48,49,50,51,52,53,54,55,56,57,58,59,60,61,62,65,66) have mixed types. Specify dtype option on import or set low_memory=False.\n",
      "  df_dataset = pd.concat([pd.read_csv(DATA_PATH + file) for file in FILES], ignore_index=True)\n"
     ]
    }
   ],
   "source": [
    "# Inizializzazione del dataset e dei parametri\n",
    "DATA_PATH = \"/users/mik2002/som/dataset-processed CIC-IDS-2018/\"\n",
    "FILES = [\"totalCIC2018.csv\"]\n",
    "df_dataset = pd.concat([pd.read_csv(DATA_PATH + file) for file in FILES], ignore_index=True)\n",
    "\n"
   ]
  },
  {
   "cell_type": "code",
   "execution_count": 5,
   "metadata": {},
   "outputs": [
    {
     "name": "stdout",
     "output_type": "stream",
     "text": [
      "<class 'pandas.core.frame.DataFrame'>\n",
      "RangeIndex: 60001 entries, 0 to 60000\n",
      "Data columns (total 67 columns):\n",
      " #   Column             Non-Null Count  Dtype \n",
      "---  ------             --------------  ----- \n",
      " 0   Flow Duration      60001 non-null  object\n",
      " 1   Tot Fwd Pkts       60001 non-null  object\n",
      " 2   Tot Bwd Pkts       60001 non-null  object\n",
      " 3   TotLen Fwd Pkts    60001 non-null  object\n",
      " 4   TotLen Bwd Pkts    60001 non-null  object\n",
      " 5   Fwd Pkt Len Max    60001 non-null  object\n",
      " 6   Fwd Pkt Len Min    60001 non-null  object\n",
      " 7   Fwd Pkt Len Mean   60001 non-null  object\n",
      " 8   Fwd Pkt Len Std    60001 non-null  object\n",
      " 9   Bwd Pkt Len Max    60001 non-null  object\n",
      " 10  Bwd Pkt Len Min    60001 non-null  object\n",
      " 11  Bwd Pkt Len Mean   60001 non-null  object\n",
      " 12  Bwd Pkt Len Std    60001 non-null  object\n",
      " 13  Flow IAT Mean      60001 non-null  object\n",
      " 14  Flow IAT Std       60001 non-null  object\n",
      " 15  Flow IAT Max       60001 non-null  object\n",
      " 16  Flow IAT Min       60001 non-null  object\n",
      " 17  Fwd IAT Tot        60001 non-null  object\n",
      " 18  Fwd IAT Mean       60001 non-null  object\n",
      " 19  Fwd IAT Std        60001 non-null  object\n",
      " 20  Fwd IAT Max        60001 non-null  object\n",
      " 21  Fwd IAT Min        60001 non-null  object\n",
      " 22  Bwd IAT Tot        60001 non-null  object\n",
      " 23  Bwd IAT Mean       60001 non-null  object\n",
      " 24  Bwd IAT Std        60001 non-null  object\n",
      " 25  Bwd IAT Max        60001 non-null  object\n",
      " 26  Bwd IAT Min        60001 non-null  object\n",
      " 27  Fwd Header Len     60001 non-null  object\n",
      " 28  Bwd Header Len     60001 non-null  object\n",
      " 29  Fwd Pkts/s         60001 non-null  object\n",
      " 30  Bwd Pkts/s         60001 non-null  object\n",
      " 31  Pkt Len Min        60001 non-null  object\n",
      " 32  Pkt Len Max        60001 non-null  object\n",
      " 33  Pkt Len Mean       60001 non-null  object\n",
      " 34  Pkt Len Std        60001 non-null  object\n",
      " 35  Pkt Len Var        60001 non-null  object\n",
      " 36  FIN Flag Cnt       60001 non-null  object\n",
      " 37  SYN Flag Cnt       60001 non-null  object\n",
      " 38  RST Flag Cnt       60001 non-null  object\n",
      " 39  PSH Flag Cnt       60001 non-null  object\n",
      " 40  ACK Flag Cnt       60001 non-null  object\n",
      " 41  URG Flag Cnt       60001 non-null  object\n",
      " 42  ECE Flag Cnt       60001 non-null  object\n",
      " 43  Down/Up Ratio      60001 non-null  object\n",
      " 44  Pkt Size Avg       60001 non-null  object\n",
      " 45  Fwd Seg Size Avg   60001 non-null  object\n",
      " 46  Bwd Seg Size Avg   60001 non-null  object\n",
      " 47  Subflow Fwd Pkts   60001 non-null  object\n",
      " 48  Subflow Fwd Byts   60001 non-null  object\n",
      " 49  Subflow Bwd Pkts   60001 non-null  object\n",
      " 50  Subflow Bwd Byts   60001 non-null  object\n",
      " 51  Init Fwd Win Byts  60001 non-null  object\n",
      " 52  Init Bwd Win Byts  60001 non-null  object\n",
      " 53  Fwd Act Data Pkts  60001 non-null  object\n",
      " 54  Fwd Seg Size Min   60001 non-null  object\n",
      " 55  Active Mean        60001 non-null  object\n",
      " 56  Active Std         60001 non-null  object\n",
      " 57  Active Max         60001 non-null  object\n",
      " 58  Active Min         60001 non-null  object\n",
      " 59  Idle Mean          60001 non-null  object\n",
      " 60  Idle Std           60001 non-null  object\n",
      " 61  Idle Max           60001 non-null  object\n",
      " 62  Idle Min           60001 non-null  object\n",
      " 63  Protocol_17        60001 non-null  int64 \n",
      " 64  Protocol_6         60001 non-null  int64 \n",
      " 65  Label              60001 non-null  object\n",
      " 66  Protocol_Protocol  10679 non-null  object\n",
      "dtypes: int64(2), object(65)\n",
      "memory usage: 30.7+ MB\n"
     ]
    }
   ],
   "source": [
    "df_dataset.info()"
   ]
  },
  {
   "cell_type": "code",
   "execution_count": 8,
   "metadata": {},
   "outputs": [
    {
     "data": {
      "text/plain": [
       "0            0\n",
       "1            0\n",
       "2            0\n",
       "3            0\n",
       "4            0\n",
       "         ...  \n",
       "59996        5\n",
       "59997        5\n",
       "59998        5\n",
       "59999        5\n",
       "60000    Label\n",
       "Name: Label, Length: 60001, dtype: object"
      ]
     },
     "execution_count": 8,
     "metadata": {},
     "output_type": "execute_result"
    }
   ],
   "source": [
    "df_dataset['Label']"
   ]
  }
 ],
 "metadata": {
  "kernelspec": {
   "display_name": "Python 3",
   "language": "python",
   "name": "python3"
  },
  "language_info": {
   "codemirror_mode": {
    "name": "ipython",
    "version": 3
   },
   "file_extension": ".py",
   "mimetype": "text/x-python",
   "name": "python",
   "nbconvert_exporter": "python",
   "pygments_lexer": "ipython3",
   "version": "3.10.12"
  }
 },
 "nbformat": 4,
 "nbformat_minor": 2
}
