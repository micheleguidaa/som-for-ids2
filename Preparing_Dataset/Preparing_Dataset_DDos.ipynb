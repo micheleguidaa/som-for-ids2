{
 "cells": [
  {
   "cell_type": "markdown",
   "metadata": {},
   "source": [
    "# Preparing DDos Dataset \n"
   ]
  },
  {
   "cell_type": "code",
   "execution_count": null,
   "metadata": {},
   "outputs": [],
   "source": [
    "import pandas as pd\n",
    "\n",
    "df_thursday2 = pd.read_csv(\"/users/mik2002/aws-dataset/Thursday-20-02-2018_TrafficForML_CICFlowMeter.csv\")\n",
    "df_wednesday2 = pd.read_csv(\"/users/mik2002/aws-dataset/Wednesday-21-02-2018_TrafficForML_CICFlowMeter.csv\")\n"
   ]
  },
  {
   "cell_type": "code",
   "execution_count": null,
   "metadata": {},
   "outputs": [],
   "source": [
    "df_dataset = pd.concat([df_thursday2,\n",
    "                        df_wednesday2], axis=0, ignore_index=True)\n",
    "df_dataset[\"Label\"].value_counts()"
   ]
  },
  {
   "cell_type": "code",
   "execution_count": null,
   "metadata": {},
   "outputs": [],
   "source": [
    "# Impostazione dell'opzione per mostrare tutte le colonne\n",
    "pd.set_option('display.max_columns', None)\n",
    "\n",
    "# Visualizzazione delle prime righe del DataFrame con tutte le colonne\n",
    "df_dataset.head()"
   ]
  },
  {
   "cell_type": "markdown",
   "metadata": {},
   "source": [
    "Removing row with erroneous 'Label' label"
   ]
  },
  {
   "cell_type": "code",
   "execution_count": null,
   "metadata": {},
   "outputs": [],
   "source": [
    "df_dataset[\"Label\"].value_counts()"
   ]
  },
  {
   "cell_type": "code",
   "execution_count": null,
   "metadata": {},
   "outputs": [],
   "source": [
    "df_dataset.replace(to_replace=[\"DDOS attack-HOIC\", \"DDoS attacks-LOIC-HTTP\",\"DDOS attack-LOIC-UDP\"], value=\"DDos\", inplace=True)\n",
    "df_dataset[\"Label\"].value_counts()"
   ]
  },
  {
   "cell_type": "code",
   "execution_count": null,
   "metadata": {},
   "outputs": [],
   "source": [
    "df_dataset# dropping missing or duplicate values\n",
    "print(\"Before drop duplicate and missing values\",df_dataset.shape)\n",
    "df_dataset.drop_duplicates(inplace=True)\n",
    "print(\"After drop duplicate values\",df_dataset.shape)\n",
    "df_dataset.dropna(inplace=True)\n",
    "print(\"After drop missing values\",df_dataset.shape)"
   ]
  },
  {
   "cell_type": "code",
   "execution_count": null,
   "metadata": {},
   "outputs": [],
   "source": [
    "df_dataset[\"Label\"].value_counts()"
   ]
  },
  {
   "cell_type": "code",
   "execution_count": null,
   "metadata": {},
   "outputs": [],
   "source": [
    "# Forcing them to be strings\n",
    "df_dataset = df_dataset.astype({\"Protocol\": str})\n",
    "df_dataset = pd.get_dummies(df_dataset, columns=['Protocol'], drop_first=True)\n",
    "df_dataset[\"Protocol_17\"] = df_dataset[\"Protocol_17\"].astype(int)\n",
    "df_dataset[\"Protocol_6\"] = df_dataset[\"Protocol_6\"].astype(int)\n",
    "# making Label column the last column again\n",
    "df_dataset.insert(len(df_dataset.columns)-1, 'Label', df_dataset.pop('Label'))"
   ]
  },
  {
   "cell_type": "code",
   "execution_count": null,
   "metadata": {},
   "outputs": [],
   "source": [
    "columns_to_drop = [\n",
    "    'Flow ID',\n",
    "    'Src IP',\n",
    "    'Src Port',\n",
    "    'Dst IP',\n",
    "    'Dst Port',\n",
    "    'Timestamp',\n",
    "    'Fwd PSH Flags',\n",
    "    'Bwd PSH Flags',\n",
    "    'Fwd URG Flags',\n",
    "    'Bwd URG Flags',\n",
    "    'Flow Byts/s',  \n",
    "    'Flow Pkts/s',\n",
    "    'Fwd Byts/b Avg',\n",
    "    'Fwd Pkts/b Avg',\n",
    "    'Fwd Blk Rate Avg',\n",
    "    'Bwd Byts/b Avg',\n",
    "    'Bwd Pkts/b Avg',\n",
    "    'CWE Flag Count',\n",
    "    'Bwd Blk Rate Avg'  \n",
    "]"
   ]
  },
  {
   "cell_type": "code",
   "execution_count": null,
   "metadata": {},
   "outputs": [],
   "source": [
    "df_dataset[columns_to_drop].value_counts()"
   ]
  },
  {
   "cell_type": "code",
   "execution_count": null,
   "metadata": {},
   "outputs": [],
   "source": [
    "df_dataset.drop(columns=columns_to_drop, inplace=True)\n",
    "df_dataset.shape"
   ]
  },
  {
   "cell_type": "code",
   "execution_count": null,
   "metadata": {},
   "outputs": [],
   "source": [
    "df_dataset"
   ]
  },
  {
   "cell_type": "code",
   "execution_count": null,
   "metadata": {},
   "outputs": [],
   "source": [
    "df_dataset.columns"
   ]
  },
  {
   "cell_type": "code",
   "execution_count": null,
   "metadata": {},
   "outputs": [],
   "source": [
    "df_dataset.info()"
   ]
  },
  {
   "cell_type": "code",
   "execution_count": null,
   "metadata": {},
   "outputs": [],
   "source": [
    "df_dataset.to_csv(\"/users/mik2002/som/dataset-processed/processed_dos_dataset.csv\", index=False)"
   ]
  }
 ],
 "metadata": {
  "kernelspec": {
   "display_name": "Python 3",
   "language": "python",
   "name": "python3"
  },
  "language_info": {
   "codemirror_mode": {
    "name": "ipython",
    "version": 3
   },
   "file_extension": ".py",
   "mimetype": "text/x-python",
   "name": "python",
   "nbconvert_exporter": "python",
   "pygments_lexer": "ipython3",
   "version": "3.10.12"
  }
 },
 "nbformat": 4,
 "nbformat_minor": 2
}
