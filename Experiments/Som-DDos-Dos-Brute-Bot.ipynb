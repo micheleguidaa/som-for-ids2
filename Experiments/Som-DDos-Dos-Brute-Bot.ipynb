{
 "cells": [
  {
   "cell_type": "code",
   "execution_count": null,
   "metadata": {},
   "outputs": [],
   "source": [
    "import pandas as pd\n",
    "from sklearn.model_selection import KFold\n",
    "from sklearn.preprocessing import MinMaxScaler\n",
    "from sklearn.metrics import classification_report\n",
    "from minisom import MiniSom\n",
    "import numpy as np\n",
    "import time\n",
    "import matplotlib.pyplot as plt\n",
    "import seaborn as sns\n",
    "from joblib import Parallel, delayed"
   ]
  },
  {
   "cell_type": "code",
   "execution_count": null,
   "metadata": {},
   "outputs": [],
   "source": [
    "# Funzione per classificare i dati utilizzando il SOM\n",
    "def classify2(som, data, training_data, training_labels):\n",
    "    from collections import Counter\n",
    "    winmap = som.labels_map(training_data, training_labels)\n",
    "    default_class = Counter(training_labels).most_common(1)[0][0]\n",
    "    result = []\n",
    "    for sample in data:\n",
    "        winner = som.winner(sample)\n",
    "        if winner in winmap:\n",
    "            result.append(winmap[winner].most_common(1)[0][0])\n",
    "        else:\n",
    "            result.append(default_class)\n",
    "    return result"
   ]
  },
  {
   "cell_type": "code",
   "execution_count": null,
   "metadata": {},
   "outputs": [],
   "source": [
    "# Funzione per addestrare e valutare il SOM\n",
    "def train_and_evaluate(train_idx, test_idx, X, y, som_shape, sigma, learning_rate):\n",
    "    X_train, X_test = X[train_idx], X[test_idx]\n",
    "    y_train, y_test = y[train_idx], y[test_idx]\n",
    "\n",
    "    som = MiniSom(som_shape[0], som_shape[1], X_train.shape[1], sigma=sigma, learning_rate=learning_rate)\n",
    "    start_train = time.time()\n",
    "    som.train_random(X_train, X_train.shape[0])\n",
    "    end_train = time.time()\n",
    "\n",
    "    y_pred = classify2(som, X_test, X_train, y_train)\n",
    "    start_eval = time.time()\n",
    "    report = classification_report(y_test, y_pred, digits=4, output_dict=True, zero_division=0)\n",
    "    end_eval = time.time()\n",
    "\n",
    "    training_time = end_train - start_train\n",
    "    evaluating_time = end_eval - start_eval\n",
    "\n",
    "    return report, training_time, evaluating_time"
   ]
  },
  {
   "cell_type": "code",
   "execution_count": null,
   "metadata": {},
   "outputs": [],
   "source": [
    "# Inizializzazione del dataset e dei parametri\n",
    "DATA_PATH = \"/users/mik2002/som/dataset-processed/\"\n",
    "FILES = [\"processed_bot_dataset.csv\", \"processed_dos_dataset.csv\",\"processed_Ddos_dataset.csv\", \"processed_bruteforce_dataset.csv\"]\n",
    "df_dataset = pd.concat([pd.read_csv(DATA_PATH + file) for file in FILES], ignore_index=True)"
   ]
  },
  {
   "cell_type": "code",
   "execution_count": null,
   "metadata": {},
   "outputs": [],
   "source": [
    "display(df_dataset[\"Label\"].value_counts())\n",
    "print(\"Distribution:\")\n",
    "display(df_dataset[\"Label\"].value_counts(normalize=True))"
   ]
  },
  {
   "cell_type": "code",
   "execution_count": null,
   "metadata": {},
   "outputs": [],
   "source": [
    "# Calcola le proporzioni delle classi nel dataset originale\n",
    "class_proportions = df_dataset[\"Label\"].value_counts(normalize=True)\n",
    "\n",
    "# Esegui il campionamento casuale stratificato mantenendo le proporzioni delle classi\n",
    "# Specifica la percentuale di campionamento desiderata (ad esempio, 10%)\n",
    "df_dataset = df_dataset.groupby(\"Label\", group_keys=False).apply(lambda x: x.sample(frac=0.01, random_state=42))\n",
    "\n",
    "df_dataset[\"Label\"] = df_dataset[\"Label\"].map({\"Benign\": 0, \"DDos\": 1, \"Dos\": 2, \"Bot\": 3, \"Bruteforce\": 4})"
   ]
  },
  {
   "cell_type": "code",
   "execution_count": null,
   "metadata": {},
   "outputs": [],
   "source": [
    "scaler = MinMaxScaler()\n",
    "data = scaler.fit_transform(df_dataset.iloc[:, :-1])\n",
    "target = df_dataset.iloc[:, -1].values"
   ]
  },
  {
   "cell_type": "code",
   "execution_count": null,
   "metadata": {},
   "outputs": [],
   "source": [
    "# Parametri le SOM\n",
    "som_sizes = [(15, 15),(20, 20),(25, 25), (30, 30)]\n",
    "learning_rate = 1.2\n",
    "sigma = 1.5"
   ]
  },
  {
   "cell_type": "code",
   "execution_count": null,
   "metadata": {},
   "outputs": [],
   "source": [
    "# Lista per salvare i risultati\n",
    "results = []\n",
    "\n",
    "# Funzione wrapper per il parallellismo\n",
    "def parallel_train_and_evaluate(train_idx, test_idx, som_shape, data, target, sigma, learning_rate):\n",
    "    report, training_time, evaluating_time = train_and_evaluate(train_idx, test_idx, data, target, som_shape, sigma, learning_rate)\n",
    "    return report, training_time, evaluating_time\n",
    "\n",
    "def display_report_and_times(all_reports, all_training_times, all_evaluating_times):\n",
    "    print(\"\\nAll Reports and Times for this SOM Shape:\")\n",
    "    \n",
    "    for i, (report, train_time, eval_time) in enumerate(zip(all_reports, all_training_times, all_evaluating_times)):\n",
    "        print(f\"\\nReport for Fold {i+1}:\")\n",
    "        for label, metrics in report.items():\n",
    "            if isinstance(metrics, dict):\n",
    "                print(f\"\\nLabel {label}:\")\n",
    "                for metric_name, metric_value in metrics.items():\n",
    "                    print(f\"  {metric_name.capitalize()}: {metric_value:.4f}\")\n",
    "            else:\n",
    "                print(f\"\\n{label.capitalize()}: {metrics:.4f}\")\n",
    "        print(f\"\\nTraining Time: {train_time:.4f} seconds\")\n",
    "        print(f\"Evaluating Time: {eval_time:.4f} seconds\")\n",
    "\n",
    "# KFold initialization\n",
    "kf = KFold(n_splits=5, shuffle=True, random_state=42)\n",
    "\n",
    "# Loop sulle diverse dimensioni del SOM\n",
    "for som_shape in som_sizes:\n",
    "    # Suddivisione del dataset con K-Fold e parallellismo\n",
    "    parallel_results = Parallel(n_jobs=-1)(delayed(parallel_train_and_evaluate)(train_idx, test_idx, som_shape, data, target, sigma, learning_rate) for train_idx, test_idx in kf.split(data))\n",
    "    \n",
    "    reports, training_times, evaluating_times = zip(*parallel_results)\n",
    "    \n",
    "    # Aggregazione dei risultati dei rapporti\n",
    "    class_metrics = {}\n",
    "    for report in reports:\n",
    "        for key, metrics in report.items():\n",
    "            if key.isdigit() or key in ['macro avg', 'weighted avg']:\n",
    "                if key not in class_metrics:\n",
    "                    class_metrics[key] = {m: [] for m in metrics.keys() if m != 'support'}\n",
    "                for metric, value in metrics.items():\n",
    "                    if metric != 'support':\n",
    "                        class_metrics[key][metric].append(value)\n",
    "\n",
    "    # Calcolo delle medie e preparazione dell'output formattato\n",
    "    averages = {key: {metric: np.mean(values) for metric, values in metrics.items()} for key, metrics in class_metrics.items()}\n",
    "\n",
    "    # Calcolo della media dei tempi di allenamento e valutazione\n",
    "    avg_training_time = np.mean(training_times)\n",
    "    avg_evaluating_time = np.mean(evaluating_times)\n",
    "\n",
    "    results.append((som_shape, averages, avg_training_time, avg_evaluating_time, reports, training_times, evaluating_times))\n",
    "\n",
    "# Visualizzazione dei risultati\n",
    "print(\"\\nAverage Metrics Across All Folds:\")\n",
    "for result in results:\n",
    "    shape, metrics, avg_training_time, avg_evaluating_time, all_reports, all_training_times, all_evaluating_times = result\n",
    "    print(\"****************************\")\n",
    "    print(f\"\\nSOM Shape: {shape}\".upper())\n",
    "    for class_id, class_metrics in metrics.items():\n",
    "        print(f\"\\nClass {class_id}:\")\n",
    "        for metric, value in class_metrics.items():\n",
    "            print(f\"{metric}: {value:.4f}\")\n",
    "\n",
    "    # Visualizzazione dei tempi medi di allenamento e valutazione\n",
    "    minutes_train, seconds_train = divmod(avg_training_time, 60)\n",
    "    minutes_eval, seconds_eval = divmod(avg_evaluating_time, 60)\n",
    "    print(f\"Average Training Time: {int(minutes_train)} minutes and {seconds_train:.2f} seconds\")\n",
    "    print(f\"Average Evaluating Time: {int(minutes_eval)} minutes and {seconds_eval:.2f} seconds\")\n",
    "    print(\"---------------------------------------\")\n",
    "    display_report_and_times(all_reports, all_training_times, all_evaluating_times)"
   ]
  }
 ],
 "metadata": {
  "kernelspec": {
   "display_name": "Python 3",
   "language": "python",
   "name": "python3"
  },
  "language_info": {
   "codemirror_mode": {
    "name": "ipython",
    "version": 3
   },
   "file_extension": ".py",
   "mimetype": "text/x-python",
   "name": "python",
   "nbconvert_exporter": "python",
   "pygments_lexer": "ipython3",
   "version": "3.10.12"
  }
 },
 "nbformat": 4,
 "nbformat_minor": 2
}
