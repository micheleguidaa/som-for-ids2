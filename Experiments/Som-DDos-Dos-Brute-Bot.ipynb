{
 "cells": [
  {
   "cell_type": "code",
   "execution_count": null,
   "metadata": {
    "vscode": {
     "languageId": "plaintext"
    }
   },
   "outputs": [],
   "source": [
    "import pandas as pd\n",
    "from sklearn.model_selection import KFold\n",
    "from sklearn.preprocessing import MinMaxScaler\n",
    "from sklearn.metrics import classification_report\n",
    "from minisom import MiniSom\n",
    "import numpy as np\n",
    "import time\n",
    "import matplotlib.pyplot as plt\n",
    "import seaborn as sns"
   ]
  },
  {
   "cell_type": "code",
   "execution_count": null,
   "metadata": {
    "vscode": {
     "languageId": "plaintext"
    }
   },
   "outputs": [],
   "source": [
    "# Funzione per classificare i dati utilizzando il SOM\n",
    "def classify2(som, data, training_data, training_labels):\n",
    "    from collections import Counter\n",
    "    winmap = som.labels_map(training_data, training_labels)\n",
    "    default_class = Counter(training_labels).most_common(1)[0][0]\n",
    "    result = []\n",
    "    for sample in data:\n",
    "        winner = som.winner(sample)\n",
    "        if winner in winmap:\n",
    "            result.append(winmap[winner].most_common(1)[0][0])\n",
    "        else:\n",
    "            result.append(default_class)\n",
    "    return result"
   ]
  },
  {
   "cell_type": "code",
   "execution_count": null,
   "metadata": {
    "vscode": {
     "languageId": "plaintext"
    }
   },
   "outputs": [],
   "source": [
    "# Funzione per addestrare e valutare il SOM\n",
    "def train_and_evaluate(train_idx, test_idx, X, y, som_shape, sigma, learning_rate):\n",
    "    X_train, X_test = X[train_idx], X[test_idx]\n",
    "    y_train, y_test = y[train_idx], y[test_idx]\n",
    "\n",
    "    som = MiniSom(som_shape[0], som_shape[1], X_train.shape[1], sigma=sigma, learning_rate=learning_rate)\n",
    "    som.train_random(X_train, X_train.shape[0],verbose=True) \n",
    "\n",
    "    y_pred = classify2(som, X_test, X_train, y_train)\n",
    "    print(classification_report(y_test, y_pred, digits=4, zero_division=0))\n",
    "    print('Topographic error:', som.topographic_error(X_train))  \n",
    "    report = classification_report(y_test, y_pred, digits=4, output_dict=True)\n",
    "    return report"
   ]
  },
  {
   "cell_type": "code",
   "execution_count": null,
   "metadata": {
    "vscode": {
     "languageId": "plaintext"
    }
   },
   "outputs": [],
   "source": [
    "# Inizializzazione del dataset e dei parametri\n",
    "DATA_PATH = \"/users/mik2002/som/dataset-processed/\"\n",
    "FILES = [\"processed_bot_dataset.csv\", \"processed_dos_dataset.csv\",\"processed_Ddos_dataset.csv\", \"processed_bruteforce_dataset.csv\"]\n",
    "df_dataset = pd.concat([pd.read_csv(DATA_PATH + file) for file in FILES], ignore_index=True)"
   ]
  },
  {
   "cell_type": "code",
   "execution_count": null,
   "metadata": {
    "vscode": {
     "languageId": "plaintext"
    }
   },
   "outputs": [],
   "source": [
    "display(df_dataset[\"Label\"].value_counts())\n",
    "print(\"Distribution:\")\n",
    "display(df_dataset[\"Label\"].value_counts(normalize=True))"
   ]
  },
  {
   "cell_type": "code",
   "execution_count": null,
   "metadata": {
    "vscode": {
     "languageId": "plaintext"
    }
   },
   "outputs": [],
   "source": [
    "# Calcola le proporzioni delle classi nel dataset originale\n",
    "class_proportions = df_dataset[\"Label\"].value_counts(normalize=True)\n",
    "\n",
    "# Esegui il campionamento casuale stratificato mantenendo le proporzioni delle classi\n",
    "# Specifica la percentuale di campionamento desiderata (ad esempio, 10%)\n",
    "df_dataset = df_dataset.groupby(\"Label\", group_keys=False).apply(lambda x: x.sample(frac=0.5, random_state=42))\n",
    "\n",
    "df_dataset[\"Label\"] = df_dataset[\"Label\"].map({\"Benign\": 0, \"DDos\": 1, \"Dos\": 2, \"Bot\": 3, \"Bruteforce\": 4})"
   ]
  },
  {
   "cell_type": "code",
   "execution_count": null,
   "metadata": {
    "vscode": {
     "languageId": "plaintext"
    }
   },
   "outputs": [],
   "source": [
    "scaler = MinMaxScaler()\n",
    "data = scaler.fit_transform(df_dataset.iloc[:, :-1])\n",
    "target = df_dataset.iloc[:, -1].values"
   ]
  },
  {
   "cell_type": "code",
   "execution_count": null,
   "metadata": {
    "vscode": {
     "languageId": "plaintext"
    }
   },
   "outputs": [],
   "source": [
    "# Parametri per il K-Fold e il SOM\n",
    "kf = KFold(n_splits=5, shuffle=True, random_state=42)\n",
    "som_sizes = [(15, 15),(20, 20),(25, 25), (30, 30)]\n",
    "learning_rate = 1.2\n",
    "sigma = 1.5"
   ]
  },
  {
   "cell_type": "code",
   "execution_count": null,
   "metadata": {
    "vscode": {
     "languageId": "plaintext"
    }
   },
   "outputs": [],
   "source": [
    "# Lista per salvare i risultati\n",
    "results = []\n",
    "\n",
    "# Loop sulle diverse dimensioni del SOM\n",
    "for som_shape in som_sizes:\n",
    "    class_metrics = {}\n",
    "    error_metrics = {}\n",
    "    # Suddivisione del dataset con K-Fold\n",
    "    for train_idx, test_idx in kf.split(data):\n",
    "        print(f\"\\nTraining SOM with shape: {som_shape}\")\n",
    "        start_time = time.time() \n",
    "        report = train_and_evaluate(train_idx, test_idx, data, target, som_shape, sigma, learning_rate)\n",
    "        elapsed_time = time.time() - start_time\n",
    "        minutes, seconds = divmod(elapsed_time, 60)\n",
    "        print(f\"Training Time + Evaluating Time: {int(minutes)} minutes and {seconds:.2f} seconds\")\n",
    "        for key, metrics in report.items():\n",
    "            if key.isdigit() or key in ['macro avg', 'weighted avg']:\n",
    "                if key not in class_metrics:\n",
    "                    class_metrics[key] = {m: [] for m in metrics.keys() if m != 'support'}\n",
    "                for metric, value in metrics.items():\n",
    "                    if metric != 'support':\n",
    "                        class_metrics[key][metric].append(value)\n",
    "\n",
    "    # Calcolo delle medie e preparazione dell'output formattato\n",
    "    averages = {}\n",
    "    for key, metrics in class_metrics.items():\n",
    "        averages[key] = {metric: np.mean(values) for metric, values in metrics.items()}\n",
    "\n",
    "    results.append((som_shape, averages))\n",
    "\n",
    "# Visualizzazione dei risultati\n",
    "print(\"\\nAverage Metrics Across All Folds:\")\n",
    "for result in results:\n",
    "    shape, metrics = result\n",
    "    print(f\"\\nSOM Shape: {shape}\")\n",
    "    for class_id, class_metrics in metrics.items():\n",
    "        print(f\"\\nClass {class_id}:\")\n",
    "        for metric, value in class_metrics.items():\n",
    "            print(f\"{metric}: {value:.4f}\")"
   ]
  }
 ],
 "metadata": {
  "language_info": {
   "name": "python"
  }
 },
 "nbformat": 4,
 "nbformat_minor": 2
}
