{
 "cells": [
  {
   "cell_type": "code",
   "execution_count": 59,
   "metadata": {},
   "outputs": [],
   "source": [
    "# Import modules\n",
    "from IPython.display import Image, display\n",
    "import matplotlib.pyplot as plt\n",
    "import matplotlib.gridspec as gridspec\n",
    "from minisom import MiniSom\n",
    "import numpy as np\n",
    "import pandas as pd\n",
    "import seaborn as sns\n",
    "import time\n",
    "from sklearn.preprocessing import StandardScaler,MinMaxScaler\n",
    "from sklearn.model_selection import train_test_split, learning_curve\n",
    "from sklearn.metrics import classification_report, accuracy_score, precision_recall_fscore_support, roc_auc_score, roc_curve"
   ]
  },
  {
   "cell_type": "code",
   "execution_count": 60,
   "metadata": {},
   "outputs": [],
   "source": [
    "# Constants\n",
    "DATA_PATH = \"/users/mik2002/som/dataset-processed/\"\n",
    "FILES = [\"processed_bot_dataset.csv\", \"processed_dos_dataset.csv\", \"processed_bruteforce_dataset.csv\"]"
   ]
  },
  {
   "cell_type": "code",
   "execution_count": 61,
   "metadata": {},
   "outputs": [],
   "source": [
    "df_dataset = pd.concat([pd.read_csv(DATA_PATH + file) for file in FILES],ignore_index=True)"
   ]
  },
  {
   "cell_type": "code",
   "execution_count": 62,
   "metadata": {},
   "outputs": [
    {
     "data": {
      "text/plain": [
       "Label\n",
       "Benign        2858495\n",
       "Dos            507715\n",
       "Bot            282310\n",
       "Bruteforce     156668\n",
       "Name: count, dtype: int64"
      ]
     },
     "metadata": {},
     "output_type": "display_data"
    },
    {
     "name": "stdout",
     "output_type": "stream",
     "text": [
      "Distribution:\n"
     ]
    },
    {
     "data": {
      "text/plain": [
       "Label\n",
       "Benign        0.751210\n",
       "Dos           0.133427\n",
       "Bot           0.074191\n",
       "Bruteforce    0.041172\n",
       "Name: proportion, dtype: float64"
      ]
     },
     "metadata": {},
     "output_type": "display_data"
    }
   ],
   "source": [
    "display(df_dataset[\"Label\"].value_counts())\n",
    "print(\"Distribution:\")\n",
    "display(df_dataset[\"Label\"].value_counts(normalize=True))"
   ]
  },
  {
   "cell_type": "code",
   "execution_count": 63,
   "metadata": {},
   "outputs": [
    {
     "name": "stderr",
     "output_type": "stream",
     "text": [
      "/tmp/ipykernel_257553/3733739399.py:8: DeprecationWarning: DataFrameGroupBy.apply operated on the grouping columns. This behavior is deprecated, and in a future version of pandas the grouping columns will be excluded from the operation. Either pass `include_groups=False` to exclude the groupings or explicitly select the grouping columns after groupby to silence this warning.\n",
      "  df_dataset = df_dataset.groupby(\"Label\", group_keys=False).apply(lambda x: x.sample(frac=0.05, random_state=42))\n"
     ]
    }
   ],
   "source": [
    "# Calcola le proporzioni delle classi nel dataset originale\n",
    "class_proportions = df_dataset[\"Label\"].value_counts(normalize=True)\n",
    "\n",
    "# Esegui il campionamento casuale stratificato mantenendo le proporzioni delle classi\n",
    "# Specifica la percentuale di campionamento desiderata (ad esempio, 10%)\n",
    "df_dataset = df_dataset.groupby(\"Label\", group_keys=False).apply(lambda x: x.sample(frac=0.05, random_state=42))"
   ]
  },
  {
   "cell_type": "code",
   "execution_count": 64,
   "metadata": {},
   "outputs": [
    {
     "data": {
      "text/plain": [
       "Label\n",
       "Benign        142925\n",
       "Dos            25386\n",
       "Bot            14116\n",
       "Bruteforce      7833\n",
       "Name: count, dtype: int64"
      ]
     },
     "metadata": {},
     "output_type": "display_data"
    },
    {
     "name": "stdout",
     "output_type": "stream",
     "text": [
      "Distribution:\n"
     ]
    },
    {
     "data": {
      "text/plain": [
       "Label\n",
       "Benign        0.751209\n",
       "Dos           0.133428\n",
       "Bot           0.074193\n",
       "Bruteforce    0.041170\n",
       "Name: proportion, dtype: float64"
      ]
     },
     "metadata": {},
     "output_type": "display_data"
    }
   ],
   "source": [
    "display(df_dataset[\"Label\"].value_counts())\n",
    "print(\"Distribution:\")\n",
    "display(df_dataset[\"Label\"].value_counts(normalize=True))"
   ]
  },
  {
   "cell_type": "code",
   "execution_count": 65,
   "metadata": {},
   "outputs": [],
   "source": [
    "df_dataset[\"Label\"] = df_dataset[\"Label\"].map({\"Benign\": 0, \"Dos\": 1, \"Bot\": 2, \"Bruteforce\": 3})\n",
    "scaler = MinMaxScaler()\n",
    "data = scaler.fit_transform(df_dataset.iloc[:,:-1])\n",
    "target = df_dataset.iloc[:,-1].values"
   ]
  },
  {
   "cell_type": "code",
   "execution_count": 66,
   "metadata": {},
   "outputs": [
    {
     "name": "stdout",
     "output_type": "stream",
     "text": [
      "Training set has 114156 samples.\n",
      "Testing set has 76104 samples.\n"
     ]
    }
   ],
   "source": [
    "# split data in Training and Testing set\n",
    "X_train, X_test, y_train, y_test = train_test_split(data, target,test_size=0.4)\n",
    "print(\"Training set has {} samples.\".format(X_train.shape[0]))\n",
    "print(\"Testing set has {} samples.\".format(X_test.shape[0]))"
   ]
  },
  {
   "cell_type": "code",
   "execution_count": 67,
   "metadata": {},
   "outputs": [],
   "source": [
    "# since this in supervised classification not unsupervised, this function chooses the class of\n",
    "# the BMU to be the final class of each instance\n",
    "def classify(som, data):\n",
    "    \"\"\"Classifies each sample in data in one of the classes definited\n",
    "    using the method labels_map.\n",
    "    Returns a list of the same length of data where the i-th element\n",
    "    is the class assigned to data[i].\n",
    "    \"\"\"\n",
    "    winmap = som.labels_map(X_train, y_train)\n",
    "    default_class = np.sum(list(winmap.values())).most_common()[0][0]\n",
    "    result = []\n",
    "    for d in data:\n",
    "        win_position = som.winner(d)\n",
    "        if win_position in winmap:\n",
    "            result.append(winmap[win_position].most_common()[0][0])\n",
    "        else:\n",
    "            result.append(default_class)\n",
    "    return result"
   ]
  },
  {
   "cell_type": "code",
   "execution_count": 68,
   "metadata": {},
   "outputs": [],
   "source": [
    "def classify2(som, data, training_data, training_labels):\n",
    "    \"\"\"\n",
    "    Classifies each sample in data using the trained SOM and a labels map.\n",
    "    \n",
    "    Parameters:\n",
    "        som (MiniSom): The trained MiniSom instance.\n",
    "        data (numpy.array): Data to classify.\n",
    "        training_data (numpy.array): Training data used to build the labels map.\n",
    "        training_labels (numpy.array): Labels corresponding to the training data.\n",
    "    \n",
    "    Returns:\n",
    "        list: List of predicted labels for the data.\n",
    "    \"\"\"\n",
    "    from collections import Counter\n",
    "    \n",
    "    # Create a labels map from the training data\n",
    "    winmap = som.labels_map(training_data, training_labels)\n",
    "    \n",
    "    # Determine the default class as the most frequent class in the training labels\n",
    "    default_class = Counter(training_labels).most_common(1)[0][0]\n",
    "    \n",
    "    result = []\n",
    "    for sample in data:\n",
    "        winner = som.winner(sample)\n",
    "        if winner in winmap:\n",
    "            result.append(winmap[winner].most_common(1)[0][0])\n",
    "        else:\n",
    "            result.append(default_class)\n",
    "    return result\n"
   ]
  },
  {
   "cell_type": "code",
   "execution_count": 69,
   "metadata": {},
   "outputs": [],
   "source": [
    "# set hyperparameters\n",
    "n_neurons = 15\n",
    "m_neurons = 15\n",
    "input_len = X_train.shape[1]\n",
    "sigma = 1.5\n",
    "learning_rate = 1.2\n",
    "iterations = X_train.shape[0]"
   ]
  },
  {
   "cell_type": "code",
   "execution_count": 70,
   "metadata": {},
   "outputs": [],
   "source": [
    "from minisom import MiniSom\n",
    "# initialization\n",
    "som = MiniSom(x=n_neurons, y=m_neurons,input_len=input_len,sigma=sigma,learning_rate=learning_rate)\n",
    "som.random_weights_init(X_train)"
   ]
  },
  {
   "cell_type": "code",
   "execution_count": 71,
   "metadata": {},
   "outputs": [
    {
     "name": "stdout",
     "output_type": "stream",
     "text": [
      " [    779 / 114156 ]   1% - 0:00:22 left "
     ]
    },
    {
     "name": "stdout",
     "output_type": "stream",
     "text": [
      " [ 114156 / 114156 ] 100% - 0:00:00 left \n",
      " quantization error: 0.054251201420118515\n",
      "CPU times: user 26.3 s, sys: 2.68 s, total: 29 s\n",
      "Wall time: 24 s\n"
     ]
    }
   ],
   "source": [
    "%%time\n",
    "som.train(X_train, iterations, verbose=True)  # random training"
   ]
  },
  {
   "cell_type": "code",
   "execution_count": 72,
   "metadata": {},
   "outputs": [
    {
     "name": "stdout",
     "output_type": "stream",
     "text": [
      "topographic error: 0.04003293738393076\n",
      "CPU times: user 4.92 s, sys: 2.67 s, total: 7.59 s\n",
      "Wall time: 1.49 s\n"
     ]
    }
   ],
   "source": [
    "%%time\n",
    "print('topographic error:', som.topographic_error(X_train))"
   ]
  },
  {
   "cell_type": "code",
   "execution_count": 73,
   "metadata": {},
   "outputs": [
    {
     "name": "stdout",
     "output_type": "stream",
     "text": [
      "              precision    recall  f1-score   support\n",
      "\n",
      "           0     0.9916    0.9944    0.9930     57371\n",
      "           1     0.9857    0.9442    0.9645     10050\n",
      "           2     0.9728    0.9290    0.9504      5620\n",
      "           3     0.8548    0.9977    0.9208      3063\n",
      "\n",
      "    accuracy                         0.9831     76104\n",
      "   macro avg     0.9512    0.9663    0.9572     76104\n",
      "weighted avg     0.9839    0.9831    0.9832     76104\n",
      "\n",
      "CPU times: user 12.6 s, sys: 18.2 ms, total: 12.6 s\n",
      "Wall time: 12.6 s\n"
     ]
    }
   ],
   "source": [
    "%%time\n",
    "y_pred2 = classify2(som, X_test,X_train,y_train)\n",
    "report2 = classification_report(y_test, y_pred2, digits=4)\n",
    "print(report2)"
   ]
  },
  {
   "cell_type": "code",
   "execution_count": 74,
   "metadata": {},
   "outputs": [
    {
     "name": "stdout",
     "output_type": "stream",
     "text": [
      "              precision    recall  f1-score   support\n",
      "\n",
      "           0     0.8875    0.9363    0.9112     28354\n",
      "           1     0.7776    0.6524    0.7095      5167\n",
      "           2     0.6513    0.4702    0.5461      2935\n",
      "           3     0.8273    0.8734    0.8497      1596\n",
      "\n",
      "    accuracy                         0.8591     38052\n",
      "   macro avg     0.7859    0.7331    0.7541     38052\n",
      "weighted avg     0.8518    0.8591    0.8531     38052\n",
      "\n",
      "              precision    recall  f1-score   support\n",
      "\n",
      "           0     0.9045    0.9502    0.9268     28579\n",
      "           1     0.7428    0.7232    0.7329      5072\n",
      "           2     0.9827    0.5126    0.6738      2774\n",
      "           3     0.8463    0.8562    0.8512      1627\n",
      "\n",
      "    accuracy                         0.8840     38052\n",
      "   macro avg     0.8691    0.7605    0.7962     38052\n",
      "weighted avg     0.8862    0.8840    0.8793     38052\n",
      "\n",
      "              precision    recall  f1-score   support\n",
      "\n",
      "           0     0.9090    0.9139    0.9114     28804\n",
      "           1     0.7369    0.7745    0.7552      5029\n",
      "           2     0.5526    0.4730    0.5097      2719\n",
      "           3     0.8610    0.8507    0.8558      1500\n",
      "\n",
      "    accuracy                         0.8615     38052\n",
      "   macro avg     0.7649    0.7530    0.7580     38052\n",
      "weighted avg     0.8589    0.8615    0.8599     38052\n",
      "\n",
      "              precision    recall  f1-score   support\n",
      "\n",
      "           0     0.8841    0.9464    0.9142     28625\n",
      "           1     0.7926    0.5999    0.6829      5064\n",
      "           2     0.6654    0.4948    0.5676      2797\n",
      "           3     0.8849    0.8448    0.8644      1566\n",
      "\n",
      "    accuracy                         0.8630     38052\n",
      "   macro avg     0.8068    0.7215    0.7573     38052\n",
      "weighted avg     0.8559    0.8630    0.8559     38052\n",
      "\n",
      "              precision    recall  f1-score   support\n",
      "\n",
      "           0     0.9003    0.9792    0.9381     28563\n",
      "           1     0.8734    0.7220    0.7905      5054\n",
      "           2     0.9773    0.4756    0.6398      2891\n",
      "           3     0.9030    0.8199    0.8595      1544\n",
      "\n",
      "    accuracy                         0.9003     38052\n",
      "   macro avg     0.9135    0.7492    0.8070     38052\n",
      "weighted avg     0.9027    0.9003    0.8926     38052\n",
      "\n",
      "Average Metrics Across All Folds:\n",
      "Class 0:\n",
      "precision: 0.8971\n",
      "recall: 0.9452\n",
      "f1-score: 0.9203\n",
      "\n",
      "Class 1:\n",
      "precision: 0.7847\n",
      "recall: 0.6944\n",
      "f1-score: 0.7342\n",
      "\n",
      "Class 2:\n",
      "precision: 0.7659\n",
      "recall: 0.4852\n",
      "f1-score: 0.5874\n",
      "\n",
      "Class 3:\n",
      "precision: 0.8645\n",
      "recall: 0.8490\n",
      "f1-score: 0.8561\n",
      "\n",
      "Class macro avg:\n",
      "precision: 0.8280\n",
      "recall: 0.7435\n",
      "f1-score: 0.7745\n",
      "\n",
      "Class weighted avg:\n",
      "precision: 0.8711\n",
      "recall: 0.8736\n",
      "f1-score: 0.8682\n",
      "\n"
     ]
    }
   ],
   "source": [
    "from sklearn.model_selection import KFold\n",
    "from sklearn.metrics import classification_report\n",
    "from minisom import MiniSom\n",
    "import numpy as np\n",
    "from concurrent.futures import ProcessPoolExecutor, as_completed\n",
    "\n",
    "\n",
    "\n",
    "def train_and_evaluate(train_idx, test_idx, X, y, som_shape, sigma, learning_rate):\n",
    "    X_train, X_test = X[train_idx], X[test_idx]\n",
    "    y_train, y_test = y[train_idx], y[test_idx]\n",
    "\n",
    "    som = MiniSom(som_shape[0], som_shape[1], X_train.shape[1], sigma=sigma, learning_rate=learning_rate)\n",
    "    som.train_random(X_train, X_train.shape[0]) \n",
    "\n",
    "    y_pred = classify2(som, X_test, X_train, y_train)  \n",
    "    print(classification_report(y_test, y_pred, digits=4))\n",
    "    report = classification_report(y_test, y_pred, digits=4, output_dict=True)\n",
    "    return report\n",
    "\n",
    "# Initialize dataset and parameters\n",
    "X = df_dataset.iloc[:, :-1].values\n",
    "y = df_dataset.iloc[:, -1].values\n",
    "\n",
    "kf = KFold(n_splits=5, shuffle=True, random_state=42)\n",
    "som_shape = (20, 20)\n",
    "learning_rate = 1.2\n",
    "sigma = 1.5\n",
    "\n",
    "executor = ProcessPoolExecutor()\n",
    "futures = []\n",
    "\n",
    "for train_idx, test_idx in kf.split(X):\n",
    "    futures.append(executor.submit(train_and_evaluate, train_idx, test_idx, X, y, som_shape, sigma, learning_rate))\n",
    "\n",
    "class_metrics = {}\n",
    "\n",
    "# Process results as they complete\n",
    "for future in as_completed(futures):\n",
    "    report = future.result()\n",
    "    for key, metrics in report.items():\n",
    "        if key.isdigit() or key in ['macro avg', 'weighted avg']:\n",
    "            if key not in class_metrics:\n",
    "                class_metrics[key] = {m: [] for m in metrics.keys() if m != 'support'}\n",
    "            for metric, value in metrics.items():\n",
    "                if metric != 'support':\n",
    "                    class_metrics[key][metric].append(value)\n",
    "\n",
    "executor.shutdown()\n",
    "\n",
    "# Calculate averages and prepare formatted output\n",
    "averages = {}\n",
    "for key, metrics in class_metrics.items():\n",
    "    averages[key] = {metric: np.mean(values) for metric, values in metrics.items()}\n",
    "\n",
    "print(\"Average Metrics Across All Folds:\")\n",
    "for class_id, metrics in averages.items():\n",
    "    print(f\"Class {class_id}:\")\n",
    "    for metric, value in metrics.items():\n",
    "        print(f\"{metric}: {value:.4f}\")\n",
    "    print()\n"
   ]
  },
  {
   "cell_type": "code",
   "execution_count": 75,
   "metadata": {},
   "outputs": [
    {
     "name": "stdout",
     "output_type": "stream",
     "text": [
      "Percentage distribution (20502/190260)*100) at the densest point: 10.775780510879848%\n"
     ]
    },
    {
     "data": {
      "image/png": "[encoded data removed]",
      "text/plain": [
       "<Figure size 900x900 with 2 Axes>"
      ]
     },
     "metadata": {},
     "output_type": "display_data"
    },
    {
     "name": "stdout",
     "output_type": "stream",
     "text": [
      "CPU times: user 15.3 s, sys: 1.61 s, total: 17 s\n",
      "Wall time: 14.3 s\n"
     ]
    }
   ],
   "source": [
    "%%time\n",
    "# Compute the activation map\n",
    "frequencies = som.activation_response(data)\n",
    "\n",
    "# Find the maximum value in the activation map\n",
    "max_value = np.max(frequencies)\n",
    "\n",
    "# Calculate the percentage distribution at the densest point\n",
    "densest_point_percentage = (max_value / len(data)) * 100\n",
    "\n",
    "# Print the percentage distribution\n",
    "print(f\"Percentage distribution ({int(max_value)}/{len(data)})*100) at the densest point: {densest_point_percentage}%\")\n",
    "\n",
    "# Display the activation map\n",
    "plt.figure(figsize=(9, 9))\n",
    "plt.pcolor(frequencies.T,cmap='YlOrRd')\n",
    "plt.colorbar()\n",
    "plt.show()"
   ]
  },
  {
   "cell_type": "code",
   "execution_count": 76,
   "metadata": {},
   "outputs": [
    {
     "data": {
      "image/png": "[encoded data removed]",
      "text/plain": [
       "<Figure size 900x900 with 2 Axes>"
      ]
     },
     "metadata": {},
     "output_type": "display_data"
    },
    {
     "name": "stdout",
     "output_type": "stream",
     "text": [
      "CPU times: user 3min 11s, sys: 3.51 s, total: 3min 15s\n",
      "Wall time: 3min 14s\n"
     ]
    }
   ],
   "source": [
    "%%time\n",
    "import matplotlib.pyplot as plt\n",
    "%matplotlib inline\n",
    "\n",
    "plt.figure(figsize=(9, 9))\n",
    "\n",
    "plt.pcolor(som.distance_map().T, cmap='bone_r')  # plotting the distance map as background\n",
    "plt.colorbar()\n",
    "\n",
    "# Plotting the response for each pattern in the processed_friday_dataset\n",
    "# different colors and markers for each label\n",
    "markers = ['s', 'v','p','d']\n",
    "# green='benign' ,magenta='Dos' ,yellow='Bot', cyan='Bruteforce'\n",
    "colors = ['green', 'magenta','yellow','cyan']\n",
    "for cnt, xx in enumerate(data):\n",
    "    w = som.winner(xx)  # getting the winner\n",
    "    # palce a marker on the winning position for the sample xx\n",
    "    plt.plot(w[0]+.5, w[1]+.5, markers[target[cnt]], markerfacecolor=colors[target[cnt]],\n",
    "             markeredgecolor=colors[target[cnt]], markersize=3, markeredgewidth=2)\n",
    "\n",
    "plt.show()"
   ]
  }
 ],
 "metadata": {
  "kernelspec": {
   "display_name": "Python 3",
   "language": "python",
   "name": "python3"
  },
  "language_info": {
   "codemirror_mode": {
    "name": "ipython",
    "version": 3
   },
   "file_extension": ".py",
   "mimetype": "text/x-python",
   "name": "python",
   "nbconvert_exporter": "python",
   "pygments_lexer": "ipython3",
   "version": "3.10.12"
  }
 },
 "nbformat": 4,
 "nbformat_minor": 2
}
