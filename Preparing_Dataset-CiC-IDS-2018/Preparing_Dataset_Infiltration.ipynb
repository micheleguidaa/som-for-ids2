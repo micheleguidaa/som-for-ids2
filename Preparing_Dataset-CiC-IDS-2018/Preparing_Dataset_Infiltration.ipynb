{
 "cells": [
  {
   "cell_type": "markdown",
   "metadata": {},
   "source": [
    "# Preparing Infiltration Dataset \n"
   ]
  },
  {
   "cell_type": "code",
   "execution_count": 1,
   "metadata": {},
   "outputs": [
    {
     "name": "stderr",
     "output_type": "stream",
     "text": [
      "/tmp/ipykernel_212045/1449694950.py:3: DtypeWarning: Columns (0,1,3,4,5,6,7,8,9,10,11,12,13,14,15,16,17,18,19,20,21,22,23,24,25,26,27,28,29,30,31,32,33,34,35,36,37,38,39,40,41,42,43,44,45,46,47,48,49,50,51,52,53,54,55,56,57,58,59,60,61,62,63,64,65,66,67,68,69,70,71,72,73,74,75,76,77,78) have mixed types. Specify dtype option on import or set low_memory=False.\n",
      "  df_wednesday3 = pd.read_csv(\"/users/mik2002/aws-dataset/Wednesday-28-02-2018_TrafficForML_CICFlowMeter.csv\")\n",
      "/tmp/ipykernel_212045/1449694950.py:4: DtypeWarning: Columns (0,1,3,4,5,6,7,8,9,10,11,12,13,14,15,16,17,18,19,20,21,22,23,24,25,26,27,28,29,30,31,32,33,34,35,36,37,38,39,40,41,42,43,44,45,46,47,48,49,50,51,52,53,54,55,56,57,58,59,60,61,62,63,64,65,66,67,68,69,70,71,72,73,74,75,76,77,78) have mixed types. Specify dtype option on import or set low_memory=False.\n",
      "  df_thursday4 = pd.read_csv(\"/users/mik2002/aws-dataset/Thursday-01-03-2018_TrafficForML_CICFlowMeter.csv\")\n"
     ]
    }
   ],
   "source": [
    "import pandas as pd\n",
    "\n",
    "df_wednesday3 = pd.read_csv(\"/users/mik2002/aws-dataset/Wednesday-28-02-2018_TrafficForML_CICFlowMeter.csv\")\n",
    "df_thursday4 = pd.read_csv(\"/users/mik2002/aws-dataset/Thursday-01-03-2018_TrafficForML_CICFlowMeter.csv\")"
   ]
  },
  {
   "cell_type": "code",
   "execution_count": 2,
   "metadata": {},
   "outputs": [],
   "source": [
    "df_dataset = pd.concat([df_thursday4,\n",
    "                        df_wednesday3], axis=0, ignore_index=True)"
   ]
  },
  {
   "cell_type": "code",
   "execution_count": 3,
   "metadata": {},
   "outputs": [
    {
     "data": {
      "text/plain": [
       "Label\n",
       "Benign           782237\n",
       "Infilteration    161934\n",
       "Label                58\n",
       "Name: count, dtype: int64"
      ]
     },
     "execution_count": 3,
     "metadata": {},
     "output_type": "execute_result"
    }
   ],
   "source": [
    "df_dataset[\"Label\"].value_counts()"
   ]
  },
  {
   "cell_type": "code",
   "execution_count": 4,
   "metadata": {},
   "outputs": [
    {
     "name": "stdout",
     "output_type": "stream",
     "text": [
      "Before drop duplicate and missing values (944229, 80)\n",
      "After drop duplicate values (938445, 80)\n",
      "After drop missing values (933836, 80)\n"
     ]
    }
   ],
   "source": [
    "df_dataset# dropping missing or duplicate values\n",
    "print(\"Before drop duplicate and missing values\",df_dataset.shape)\n",
    "df_dataset.drop_duplicates(inplace=True)\n",
    "print(\"After drop duplicate values\",df_dataset.shape)\n",
    "df_dataset.dropna(inplace=True)\n",
    "print(\"After drop missing values\",df_dataset.shape)\n",
    "\n",
    "# Creazione di una maschera booleana per identificare le righe con valore \"Label\" nella colonna \"Label\"\n",
    "mask = df_dataset[\"Label\"] == \"Label\"\n",
    "\n",
    "# Rimozione delle righe identificate dalla maschera\n",
    "df_dataset = df_dataset.drop(df_dataset[mask].index)\n"
   ]
  },
  {
   "cell_type": "code",
   "execution_count": 5,
   "metadata": {},
   "outputs": [
    {
     "data": {
      "text/plain": [
       "Label\n",
       "Benign          772775\n",
       "Infiltration    161060\n",
       "Name: count, dtype: int64"
      ]
     },
     "execution_count": 5,
     "metadata": {},
     "output_type": "execute_result"
    }
   ],
   "source": [
    "df_dataset.replace(to_replace=[\"Infilteration\",], value=\"Infiltration\", inplace=True)\n",
    "df_dataset[\"Label\"].value_counts()"
   ]
  },
  {
   "cell_type": "code",
   "execution_count": 6,
   "metadata": {},
   "outputs": [
    {
     "name": "stdout",
     "output_type": "stream",
     "text": [
      "Before drop duplicate and missing values (933835, 80)\n",
      "After drop duplicate values (933835, 80)\n",
      "After drop missing values (933835, 80)\n"
     ]
    }
   ],
   "source": [
    "df_dataset# dropping missing or duplicate values\n",
    "print(\"Before drop duplicate and missing values\",df_dataset.shape)\n",
    "df_dataset.drop_duplicates(inplace=True)\n",
    "print(\"After drop duplicate values\",df_dataset.shape)\n",
    "df_dataset.dropna(inplace=True)\n",
    "print(\"After drop missing values\",df_dataset.shape)"
   ]
  },
  {
   "cell_type": "code",
   "execution_count": 7,
   "metadata": {},
   "outputs": [
    {
     "data": {
      "text/plain": [
       "Label\n",
       "Benign          772775\n",
       "Infiltration    161060\n",
       "Name: count, dtype: int64"
      ]
     },
     "execution_count": 7,
     "metadata": {},
     "output_type": "execute_result"
    }
   ],
   "source": [
    "df_dataset[\"Label\"].value_counts()"
   ]
  },
  {
   "cell_type": "code",
   "execution_count": 8,
   "metadata": {},
   "outputs": [],
   "source": [
    "columns_to_drop = [\n",
    "    'Dst Port',\n",
    "    'Timestamp',\n",
    "    'Fwd PSH Flags',\n",
    "    'Bwd PSH Flags',\n",
    "    'Fwd URG Flags',\n",
    "    'Bwd URG Flags',\n",
    "    'Flow Byts/s',  \n",
    "    'Flow Pkts/s',\n",
    "    'Fwd Byts/b Avg',\n",
    "    'Fwd Pkts/b Avg',\n",
    "    'Fwd Blk Rate Avg',\n",
    "    'Bwd Byts/b Avg',\n",
    "    'Bwd Pkts/b Avg',\n",
    "    'CWE Flag Count',\n",
    "    'Bwd Blk Rate Avg'  \n",
    "]"
   ]
  },
  {
   "cell_type": "code",
   "execution_count": 9,
   "metadata": {},
   "outputs": [
    {
     "data": {
      "text/plain": [
       "(933835, 65)"
      ]
     },
     "execution_count": 9,
     "metadata": {},
     "output_type": "execute_result"
    }
   ],
   "source": [
    "df_dataset.drop(columns=columns_to_drop, inplace=True)\n",
    "df_dataset.shape"
   ]
  },
  {
   "cell_type": "code",
   "execution_count": 10,
   "metadata": {},
   "outputs": [],
   "source": [
    "# Forcing them to be strings\n",
    "df_dataset = df_dataset.astype({\"Protocol\": str})\n",
    "df_dataset = pd.get_dummies(df_dataset, columns=['Protocol'], drop_first=True)\n",
    "df_dataset[\"Protocol_17\"] = df_dataset[\"Protocol_17\"].astype(int)\n",
    "df_dataset[\"Protocol_6\"] = df_dataset[\"Protocol_6\"].astype(int)\n",
    "# making Label column the last column again\n",
    "df_dataset.insert(len(df_dataset.columns)-1, 'Label', df_dataset.pop('Label'))"
   ]
  },
  {
   "cell_type": "code",
   "execution_count": 11,
   "metadata": {},
   "outputs": [],
   "source": [
    "columns_to_drop = [\n",
    "    'Dst Port',\n",
    "    'Timestamp',\n",
    "    'Fwd PSH Flags',\n",
    "    'Bwd PSH Flags',\n",
    "    'Fwd URG Flags',\n",
    "    'Bwd URG Flags',\n",
    "    'Flow Byts/s',  \n",
    "    'Flow Pkts/s',\n",
    "    'Fwd Byts/b Avg',\n",
    "    'Fwd Pkts/b Avg',\n",
    "    'Fwd Blk Rate Avg',\n",
    "    'Bwd Byts/b Avg',\n",
    "    'Bwd Pkts/b Avg',\n",
    "    'CWE Flag Count',\n",
    "    'Bwd Blk Rate Avg'  \n",
    "]"
   ]
  },
  {
   "cell_type": "markdown",
   "metadata": {},
   "source": [
    "View the percentages of dataset\n"
   ]
  },
  {
   "cell_type": "code",
   "execution_count": 12,
   "metadata": {},
   "outputs": [
    {
     "name": "stdout",
     "output_type": "stream",
     "text": [
      "Percentage of Benign labels: 82.75%\n",
      "Percentage of Infiltration labels: 17.25%\n"
     ]
    }
   ],
   "source": [
    "count_labels = df_dataset[\"Label\"].value_counts()\n",
    "# Calculate the number of Benign and Malicious labels.\n",
    "benign_count = count_labels.get(\"Benign\", 0)\n",
    "infiltration_count = count_labels.get(\"Infiltration\", 0)\n",
    "\n",
    "# Calculate percentages\n",
    "total_count = benign_count + infiltration_count\n",
    "benign_percent = (benign_count / total_count) * 100\n",
    "infiltration_percent = (infiltration_count / total_count) * 100\n",
    "\n",
    "# Print the percentages\n",
    "print(f\"Percentage of Benign labels: {benign_percent:.2f}%\")\n",
    "print(f\"Percentage of Infiltration labels: {infiltration_percent:.2f}%\")"
   ]
  },
  {
   "cell_type": "code",
   "execution_count": 14,
   "metadata": {},
   "outputs": [
    {
     "name": "stdout",
     "output_type": "stream",
     "text": [
      "<class 'pandas.core.frame.DataFrame'>\n",
      "Index: 933835 entries, 0 to 944228\n",
      "Data columns (total 66 columns):\n",
      " #   Column             Non-Null Count   Dtype \n",
      "---  ------             --------------   ----- \n",
      " 0   Flow Duration      933835 non-null  object\n",
      " 1   Tot Fwd Pkts       933835 non-null  object\n",
      " 2   Tot Bwd Pkts       933835 non-null  object\n",
      " 3   TotLen Fwd Pkts    933835 non-null  object\n",
      " 4   TotLen Bwd Pkts    933835 non-null  object\n",
      " 5   Fwd Pkt Len Max    933835 non-null  object\n",
      " 6   Fwd Pkt Len Min    933835 non-null  object\n",
      " 7   Fwd Pkt Len Mean   933835 non-null  object\n",
      " 8   Fwd Pkt Len Std    933835 non-null  object\n",
      " 9   Bwd Pkt Len Max    933835 non-null  object\n",
      " 10  Bwd Pkt Len Min    933835 non-null  object\n",
      " 11  Bwd Pkt Len Mean   933835 non-null  object\n",
      " 12  Bwd Pkt Len Std    933835 non-null  object\n",
      " 13  Flow IAT Mean      933835 non-null  object\n",
      " 14  Flow IAT Std       933835 non-null  object\n",
      " 15  Flow IAT Max       933835 non-null  object\n",
      " 16  Flow IAT Min       933835 non-null  object\n",
      " 17  Fwd IAT Tot        933835 non-null  object\n",
      " 18  Fwd IAT Mean       933835 non-null  object\n",
      " 19  Fwd IAT Std        933835 non-null  object\n",
      " 20  Fwd IAT Max        933835 non-null  object\n",
      " 21  Fwd IAT Min        933835 non-null  object\n",
      " 22  Bwd IAT Tot        933835 non-null  object\n",
      " 23  Bwd IAT Mean       933835 non-null  object\n",
      " 24  Bwd IAT Std        933835 non-null  object\n",
      " 25  Bwd IAT Max        933835 non-null  object\n",
      " 26  Bwd IAT Min        933835 non-null  object\n",
      " 27  Fwd Header Len     933835 non-null  object\n",
      " 28  Bwd Header Len     933835 non-null  object\n",
      " 29  Fwd Pkts/s         933835 non-null  object\n",
      " 30  Bwd Pkts/s         933835 non-null  object\n",
      " 31  Pkt Len Min        933835 non-null  object\n",
      " 32  Pkt Len Max        933835 non-null  object\n",
      " 33  Pkt Len Mean       933835 non-null  object\n",
      " 34  Pkt Len Std        933835 non-null  object\n",
      " 35  Pkt Len Var        933835 non-null  object\n",
      " 36  FIN Flag Cnt       933835 non-null  object\n",
      " 37  SYN Flag Cnt       933835 non-null  object\n",
      " 38  RST Flag Cnt       933835 non-null  object\n",
      " 39  PSH Flag Cnt       933835 non-null  object\n",
      " 40  ACK Flag Cnt       933835 non-null  object\n",
      " 41  URG Flag Cnt       933835 non-null  object\n",
      " 42  ECE Flag Cnt       933835 non-null  object\n",
      " 43  Down/Up Ratio      933835 non-null  object\n",
      " 44  Pkt Size Avg       933835 non-null  object\n",
      " 45  Fwd Seg Size Avg   933835 non-null  object\n",
      " 46  Bwd Seg Size Avg   933835 non-null  object\n",
      " 47  Subflow Fwd Pkts   933835 non-null  object\n",
      " 48  Subflow Fwd Byts   933835 non-null  object\n",
      " 49  Subflow Bwd Pkts   933835 non-null  object\n",
      " 50  Subflow Bwd Byts   933835 non-null  object\n",
      " 51  Init Fwd Win Byts  933835 non-null  object\n",
      " 52  Init Bwd Win Byts  933835 non-null  object\n",
      " 53  Fwd Act Data Pkts  933835 non-null  object\n",
      " 54  Fwd Seg Size Min   933835 non-null  object\n",
      " 55  Active Mean        933835 non-null  object\n",
      " 56  Active Std         933835 non-null  object\n",
      " 57  Active Max         933835 non-null  object\n",
      " 58  Active Min         933835 non-null  object\n",
      " 59  Idle Mean          933835 non-null  object\n",
      " 60  Idle Std           933835 non-null  object\n",
      " 61  Idle Max           933835 non-null  object\n",
      " 62  Idle Min           933835 non-null  object\n",
      " 63  Protocol_17        933835 non-null  int64 \n",
      " 64  Protocol_6         933835 non-null  int64 \n",
      " 65  Label              933835 non-null  object\n",
      "dtypes: int64(2), object(64)\n",
      "memory usage: 477.3+ MB\n"
     ]
    }
   ],
   "source": [
    "df_dataset.info()"
   ]
  },
  {
   "cell_type": "code",
   "execution_count": 17,
   "metadata": {},
   "outputs": [],
   "source": [
    "df_dataset.to_csv(\"/users/mik2002/som/dataset-processed CIC-IDS-2018/processed_infiltration_dataset.csv\", index=False)"
   ]
  }
 ],
 "metadata": {
  "kernelspec": {
   "display_name": "Python 3",
   "language": "python",
   "name": "python3"
  },
  "language_info": {
   "codemirror_mode": {
    "name": "ipython",
    "version": 3
   },
   "file_extension": ".py",
   "mimetype": "text/x-python",
   "name": "python",
   "nbconvert_exporter": "python",
   "pygments_lexer": "ipython3",
   "version": "3.10.12"
  }
 },
 "nbformat": 4,
 "nbformat_minor": 2
}
